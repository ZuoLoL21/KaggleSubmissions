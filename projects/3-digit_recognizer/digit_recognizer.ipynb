{
 "cells": [
  {
   "metadata": {
    "ExecuteTime": {
     "end_time": "2025-09-26T12:38:44.029957Z",
     "start_time": "2025-09-26T12:38:39.622885Z"
    }
   },
   "cell_type": "code",
   "source": [
    "import pandas as pd\n",
    "import matplotlib.pyplot as plt\n",
    "\n",
    "import tensorflow as tf\n",
    "import numpy as np\n"
   ],
   "id": "8d973a7f263151f",
   "outputs": [
    {
     "name": "stderr",
     "output_type": "stream",
     "text": [
      "C:\\Users\\zuolo\\anaconda3\\envs\\tensor_data_science\\Lib\\site-packages\\requests\\__init__.py:86: RequestsDependencyWarning: Unable to find acceptable character detection dependency (chardet or charset_normalizer).\n",
      "  warnings.warn(\n"
     ]
    }
   ],
   "execution_count": 1
  },
  {
   "cell_type": "code",
   "id": "initial_id",
   "metadata": {
    "collapsed": true,
    "ExecuteTime": {
     "end_time": "2025-09-26T12:38:44.994632Z",
     "start_time": "2025-09-26T12:38:44.035212Z"
    }
   },
   "source": "train_digit_df = pd.read_csv('inputs/train.csv', delimiter=',')",
   "outputs": [],
   "execution_count": 2
  },
  {
   "metadata": {
    "ExecuteTime": {
     "end_time": "2025-09-26T12:38:45.082390Z",
     "start_time": "2025-09-26T12:38:45.003710Z"
    }
   },
   "cell_type": "code",
   "source": [
    "train_digit_df_y = train_digit_df[\"label\"]\n",
    "train_digit_df_x = train_digit_df.drop(\"label\", axis=1)\n",
    "\n",
    "train_digit_df_x_np = train_digit_df_x.to_numpy().reshape(-1, 28, 28, 1)\n",
    "train_digit_df_y_np = train_digit_df_y.to_numpy().reshape(-1, 1)\n",
    "\n",
    "print(train_digit_df_x.shape,\n",
    "      train_digit_df_y_np.shape,\n",
    "      train_digit_df_x_np.shape,\n",
    "      train_digit_df_y.shape,\n",
    "      sep='\\n')\n",
    "\n",
    "train_digit_df_x.head()"
   ],
   "id": "50ad12599220a6",
   "outputs": [
    {
     "name": "stdout",
     "output_type": "stream",
     "text": [
      "(42000, 784)\n",
      "(42000, 1)\n",
      "(42000, 28, 28, 1)\n",
      "(42000,)\n"
     ]
    },
    {
     "data": {
      "text/plain": [
       "   pixel0  pixel1  pixel2  pixel3  pixel4  pixel5  pixel6  pixel7  pixel8  \\\n",
       "0       0       0       0       0       0       0       0       0       0   \n",
       "1       0       0       0       0       0       0       0       0       0   \n",
       "2       0       0       0       0       0       0       0       0       0   \n",
       "3       0       0       0       0       0       0       0       0       0   \n",
       "4       0       0       0       0       0       0       0       0       0   \n",
       "\n",
       "   pixel9  ...  pixel774  pixel775  pixel776  pixel777  pixel778  pixel779  \\\n",
       "0       0  ...         0         0         0         0         0         0   \n",
       "1       0  ...         0         0         0         0         0         0   \n",
       "2       0  ...         0         0         0         0         0         0   \n",
       "3       0  ...         0         0         0         0         0         0   \n",
       "4       0  ...         0         0         0         0         0         0   \n",
       "\n",
       "   pixel780  pixel781  pixel782  pixel783  \n",
       "0         0         0         0         0  \n",
       "1         0         0         0         0  \n",
       "2         0         0         0         0  \n",
       "3         0         0         0         0  \n",
       "4         0         0         0         0  \n",
       "\n",
       "[5 rows x 784 columns]"
      ],
      "text/html": [
       "<div>\n",
       "<style scoped>\n",
       "    .dataframe tbody tr th:only-of-type {\n",
       "        vertical-align: middle;\n",
       "    }\n",
       "\n",
       "    .dataframe tbody tr th {\n",
       "        vertical-align: top;\n",
       "    }\n",
       "\n",
       "    .dataframe thead th {\n",
       "        text-align: right;\n",
       "    }\n",
       "</style>\n",
       "<table border=\"1\" class=\"dataframe\">\n",
       "  <thead>\n",
       "    <tr style=\"text-align: right;\">\n",
       "      <th></th>\n",
       "      <th>pixel0</th>\n",
       "      <th>pixel1</th>\n",
       "      <th>pixel2</th>\n",
       "      <th>pixel3</th>\n",
       "      <th>pixel4</th>\n",
       "      <th>pixel5</th>\n",
       "      <th>pixel6</th>\n",
       "      <th>pixel7</th>\n",
       "      <th>pixel8</th>\n",
       "      <th>pixel9</th>\n",
       "      <th>...</th>\n",
       "      <th>pixel774</th>\n",
       "      <th>pixel775</th>\n",
       "      <th>pixel776</th>\n",
       "      <th>pixel777</th>\n",
       "      <th>pixel778</th>\n",
       "      <th>pixel779</th>\n",
       "      <th>pixel780</th>\n",
       "      <th>pixel781</th>\n",
       "      <th>pixel782</th>\n",
       "      <th>pixel783</th>\n",
       "    </tr>\n",
       "  </thead>\n",
       "  <tbody>\n",
       "    <tr>\n",
       "      <th>0</th>\n",
       "      <td>0</td>\n",
       "      <td>0</td>\n",
       "      <td>0</td>\n",
       "      <td>0</td>\n",
       "      <td>0</td>\n",
       "      <td>0</td>\n",
       "      <td>0</td>\n",
       "      <td>0</td>\n",
       "      <td>0</td>\n",
       "      <td>0</td>\n",
       "      <td>...</td>\n",
       "      <td>0</td>\n",
       "      <td>0</td>\n",
       "      <td>0</td>\n",
       "      <td>0</td>\n",
       "      <td>0</td>\n",
       "      <td>0</td>\n",
       "      <td>0</td>\n",
       "      <td>0</td>\n",
       "      <td>0</td>\n",
       "      <td>0</td>\n",
       "    </tr>\n",
       "    <tr>\n",
       "      <th>1</th>\n",
       "      <td>0</td>\n",
       "      <td>0</td>\n",
       "      <td>0</td>\n",
       "      <td>0</td>\n",
       "      <td>0</td>\n",
       "      <td>0</td>\n",
       "      <td>0</td>\n",
       "      <td>0</td>\n",
       "      <td>0</td>\n",
       "      <td>0</td>\n",
       "      <td>...</td>\n",
       "      <td>0</td>\n",
       "      <td>0</td>\n",
       "      <td>0</td>\n",
       "      <td>0</td>\n",
       "      <td>0</td>\n",
       "      <td>0</td>\n",
       "      <td>0</td>\n",
       "      <td>0</td>\n",
       "      <td>0</td>\n",
       "      <td>0</td>\n",
       "    </tr>\n",
       "    <tr>\n",
       "      <th>2</th>\n",
       "      <td>0</td>\n",
       "      <td>0</td>\n",
       "      <td>0</td>\n",
       "      <td>0</td>\n",
       "      <td>0</td>\n",
       "      <td>0</td>\n",
       "      <td>0</td>\n",
       "      <td>0</td>\n",
       "      <td>0</td>\n",
       "      <td>0</td>\n",
       "      <td>...</td>\n",
       "      <td>0</td>\n",
       "      <td>0</td>\n",
       "      <td>0</td>\n",
       "      <td>0</td>\n",
       "      <td>0</td>\n",
       "      <td>0</td>\n",
       "      <td>0</td>\n",
       "      <td>0</td>\n",
       "      <td>0</td>\n",
       "      <td>0</td>\n",
       "    </tr>\n",
       "    <tr>\n",
       "      <th>3</th>\n",
       "      <td>0</td>\n",
       "      <td>0</td>\n",
       "      <td>0</td>\n",
       "      <td>0</td>\n",
       "      <td>0</td>\n",
       "      <td>0</td>\n",
       "      <td>0</td>\n",
       "      <td>0</td>\n",
       "      <td>0</td>\n",
       "      <td>0</td>\n",
       "      <td>...</td>\n",
       "      <td>0</td>\n",
       "      <td>0</td>\n",
       "      <td>0</td>\n",
       "      <td>0</td>\n",
       "      <td>0</td>\n",
       "      <td>0</td>\n",
       "      <td>0</td>\n",
       "      <td>0</td>\n",
       "      <td>0</td>\n",
       "      <td>0</td>\n",
       "    </tr>\n",
       "    <tr>\n",
       "      <th>4</th>\n",
       "      <td>0</td>\n",
       "      <td>0</td>\n",
       "      <td>0</td>\n",
       "      <td>0</td>\n",
       "      <td>0</td>\n",
       "      <td>0</td>\n",
       "      <td>0</td>\n",
       "      <td>0</td>\n",
       "      <td>0</td>\n",
       "      <td>0</td>\n",
       "      <td>...</td>\n",
       "      <td>0</td>\n",
       "      <td>0</td>\n",
       "      <td>0</td>\n",
       "      <td>0</td>\n",
       "      <td>0</td>\n",
       "      <td>0</td>\n",
       "      <td>0</td>\n",
       "      <td>0</td>\n",
       "      <td>0</td>\n",
       "      <td>0</td>\n",
       "    </tr>\n",
       "  </tbody>\n",
       "</table>\n",
       "<p>5 rows × 784 columns</p>\n",
       "</div>"
      ]
     },
     "execution_count": 3,
     "metadata": {},
     "output_type": "execute_result"
    }
   ],
   "execution_count": 3
  },
  {
   "metadata": {
    "ExecuteTime": {
     "end_time": "2025-09-26T12:38:45.389796Z",
     "start_time": "2025-09-26T12:38:45.092664Z"
    }
   },
   "cell_type": "code",
   "source": [
    "plt.figure(figsize=(10, 10))\n",
    "for i in range(25):\n",
    "    plt.subplot(5, 5, i + 1)\n",
    "    plt.xticks([])\n",
    "    plt.yticks([])\n",
    "    plt.grid(False)\n",
    "    plt.imshow(train_digit_df_x_np[i])\n",
    "    plt.xlabel(train_digit_df_y[i])\n",
    "plt.show()"
   ],
   "id": "f325010068521596",
   "outputs": [
    {
     "data": {
      "text/plain": [
       "<Figure size 1000x1000 with 25 Axes>"
      ],
      "image/png": "[encoded data removed]"
     },
     "metadata": {},
     "output_type": "display_data"
    }
   ],
   "execution_count": 4
  },
  {
   "metadata": {
    "ExecuteTime": {
     "end_time": "2025-09-26T12:56:22.484361Z",
     "start_time": "2025-09-26T12:56:22.414223Z"
    }
   },
   "cell_type": "code",
   "source": [
    "from keras import Input\n",
    "from tensorflow.keras.models import Sequential\n",
    "from tensorflow.keras.layers import Conv2D, MaxPooling2D, Flatten, Dense, AveragePooling2D, Dropout\n",
    "\n",
    "layers = [\n",
    "    Input(shape=(28, 28, 1)),\n",
    "    Conv2D(32, (3, 3), activation='relu'),\n",
    "    AveragePooling2D((2, 2)),\n",
    "    Conv2D(64, (3, 3), activation='relu'),\n",
    "    MaxPooling2D(),\n",
    "    Conv2D(64, (3, 3), activation='relu'),\n",
    "    Flatten(),\n",
    "    Dropout(0.3),\n",
    "    Dense(64, activation='relu'),\n",
    "    Dropout(0.2),\n",
    "    Dense(10)\n",
    "]\n",
    "\n",
    "model = Sequential(layers)\n",
    "model.summary()"
   ],
   "id": "dd4990fd04d58404",
   "outputs": [
    {
     "data": {
      "text/plain": [
       "\u001B[1mModel: \"sequential_1\"\u001B[0m\n"
      ],
      "text/html": [
       "<pre style=\"white-space:pre;overflow-x:auto;line-height:normal;font-family:Menlo,'DejaVu Sans Mono',consolas,'Courier New',monospace\"><span style=\"font-weight: bold\">Model: \"sequential_1\"</span>\n",
       "</pre>\n"
      ]
     },
     "metadata": {},
     "output_type": "display_data"
    },
    {
     "data": {
      "text/plain": [
       "┏━━━━━━━━━━━━━━━━━━━━━━━━━━━━━━━━━┳━━━━━━━━━━━━━━━━━━━━━━━━┳━━━━━━━━━━━━━━━┓\n",
       "┃\u001B[1m \u001B[0m\u001B[1mLayer (type)                   \u001B[0m\u001B[1m \u001B[0m┃\u001B[1m \u001B[0m\u001B[1mOutput Shape          \u001B[0m\u001B[1m \u001B[0m┃\u001B[1m \u001B[0m\u001B[1m      Param #\u001B[0m\u001B[1m \u001B[0m┃\n",
       "┡━━━━━━━━━━━━━━━━━━━━━━━━━━━━━━━━━╇━━━━━━━━━━━━━━━━━━━━━━━━╇━━━━━━━━━━━━━━━┩\n",
       "│ conv2d_4 (\u001B[38;5;33mConv2D\u001B[0m)               │ (\u001B[38;5;45mNone\u001B[0m, \u001B[38;5;34m26\u001B[0m, \u001B[38;5;34m26\u001B[0m, \u001B[38;5;34m32\u001B[0m)     │           \u001B[38;5;34m320\u001B[0m │\n",
       "├─────────────────────────────────┼────────────────────────┼───────────────┤\n",
       "│ average_pooling2d_1             │ (\u001B[38;5;45mNone\u001B[0m, \u001B[38;5;34m13\u001B[0m, \u001B[38;5;34m13\u001B[0m, \u001B[38;5;34m32\u001B[0m)     │             \u001B[38;5;34m0\u001B[0m │\n",
       "│ (\u001B[38;5;33mAveragePooling2D\u001B[0m)              │                        │               │\n",
       "├─────────────────────────────────┼────────────────────────┼───────────────┤\n",
       "│ conv2d_5 (\u001B[38;5;33mConv2D\u001B[0m)               │ (\u001B[38;5;45mNone\u001B[0m, \u001B[38;5;34m11\u001B[0m, \u001B[38;5;34m11\u001B[0m, \u001B[38;5;34m64\u001B[0m)     │        \u001B[38;5;34m18,496\u001B[0m │\n",
       "├─────────────────────────────────┼────────────────────────┼───────────────┤\n",
       "│ max_pooling2d_1 (\u001B[38;5;33mMaxPooling2D\u001B[0m)  │ (\u001B[38;5;45mNone\u001B[0m, \u001B[38;5;34m5\u001B[0m, \u001B[38;5;34m5\u001B[0m, \u001B[38;5;34m64\u001B[0m)       │             \u001B[38;5;34m0\u001B[0m │\n",
       "├─────────────────────────────────┼────────────────────────┼───────────────┤\n",
       "│ conv2d_6 (\u001B[38;5;33mConv2D\u001B[0m)               │ (\u001B[38;5;45mNone\u001B[0m, \u001B[38;5;34m3\u001B[0m, \u001B[38;5;34m3\u001B[0m, \u001B[38;5;34m64\u001B[0m)       │        \u001B[38;5;34m36,928\u001B[0m │\n",
       "├─────────────────────────────────┼────────────────────────┼───────────────┤\n",
       "│ flatten_1 (\u001B[38;5;33mFlatten\u001B[0m)             │ (\u001B[38;5;45mNone\u001B[0m, \u001B[38;5;34m576\u001B[0m)            │             \u001B[38;5;34m0\u001B[0m │\n",
       "├─────────────────────────────────┼────────────────────────┼───────────────┤\n",
       "│ dropout_2 (\u001B[38;5;33mDropout\u001B[0m)             │ (\u001B[38;5;45mNone\u001B[0m, \u001B[38;5;34m576\u001B[0m)            │             \u001B[38;5;34m0\u001B[0m │\n",
       "├─────────────────────────────────┼────────────────────────┼───────────────┤\n",
       "│ dense_2 (\u001B[38;5;33mDense\u001B[0m)                 │ (\u001B[38;5;45mNone\u001B[0m, \u001B[38;5;34m64\u001B[0m)             │        \u001B[38;5;34m36,928\u001B[0m │\n",
       "├─────────────────────────────────┼────────────────────────┼───────────────┤\n",
       "│ dropout_3 (\u001B[38;5;33mDropout\u001B[0m)             │ (\u001B[38;5;45mNone\u001B[0m, \u001B[38;5;34m64\u001B[0m)             │             \u001B[38;5;34m0\u001B[0m │\n",
       "├─────────────────────────────────┼────────────────────────┼───────────────┤\n",
       "│ dense_3 (\u001B[38;5;33mDense\u001B[0m)                 │ (\u001B[38;5;45mNone\u001B[0m, \u001B[38;5;34m10\u001B[0m)             │           \u001B[38;5;34m650\u001B[0m │\n",
       "└─────────────────────────────────┴────────────────────────┴───────────────┘\n"
      ],
      "text/html": [
       "<pre style=\"white-space:pre;overflow-x:auto;line-height:normal;font-family:Menlo,'DejaVu Sans Mono',consolas,'Courier New',monospace\">┏━━━━━━━━━━━━━━━━━━━━━━━━━━━━━━━━━┳━━━━━━━━━━━━━━━━━━━━━━━━┳━━━━━━━━━━━━━━━┓\n",
       "┃<span style=\"font-weight: bold\"> Layer (type)                    </span>┃<span style=\"font-weight: bold\"> Output Shape           </span>┃<span style=\"font-weight: bold\">       Param # </span>┃\n",
       "┡━━━━━━━━━━━━━━━━━━━━━━━━━━━━━━━━━╇━━━━━━━━━━━━━━━━━━━━━━━━╇━━━━━━━━━━━━━━━┩\n",
       "│ conv2d_4 (<span style=\"color: #0087ff; text-decoration-color: #0087ff\">Conv2D</span>)               │ (<span style=\"color: #00d7ff; text-decoration-color: #00d7ff\">None</span>, <span style=\"color: #00af00; text-decoration-color: #00af00\">26</span>, <span style=\"color: #00af00; text-decoration-color: #00af00\">26</span>, <span style=\"color: #00af00; text-decoration-color: #00af00\">32</span>)     │           <span style=\"color: #00af00; text-decoration-color: #00af00\">320</span> │\n",
       "├─────────────────────────────────┼────────────────────────┼───────────────┤\n",
       "│ average_pooling2d_1             │ (<span style=\"color: #00d7ff; text-decoration-color: #00d7ff\">None</span>, <span style=\"color: #00af00; text-decoration-color: #00af00\">13</span>, <span style=\"color: #00af00; text-decoration-color: #00af00\">13</span>, <span style=\"color: #00af00; text-decoration-color: #00af00\">32</span>)     │             <span style=\"color: #00af00; text-decoration-color: #00af00\">0</span> │\n",
       "│ (<span style=\"color: #0087ff; text-decoration-color: #0087ff\">AveragePooling2D</span>)              │                        │               │\n",
       "├─────────────────────────────────┼────────────────────────┼───────────────┤\n",
       "│ conv2d_5 (<span style=\"color: #0087ff; text-decoration-color: #0087ff\">Conv2D</span>)               │ (<span style=\"color: #00d7ff; text-decoration-color: #00d7ff\">None</span>, <span style=\"color: #00af00; text-decoration-color: #00af00\">11</span>, <span style=\"color: #00af00; text-decoration-color: #00af00\">11</span>, <span style=\"color: #00af00; text-decoration-color: #00af00\">64</span>)     │        <span style=\"color: #00af00; text-decoration-color: #00af00\">18,496</span> │\n",
       "├─────────────────────────────────┼────────────────────────┼───────────────┤\n",
       "│ max_pooling2d_1 (<span style=\"color: #0087ff; text-decoration-color: #0087ff\">MaxPooling2D</span>)  │ (<span style=\"color: #00d7ff; text-decoration-color: #00d7ff\">None</span>, <span style=\"color: #00af00; text-decoration-color: #00af00\">5</span>, <span style=\"color: #00af00; text-decoration-color: #00af00\">5</span>, <span style=\"color: #00af00; text-decoration-color: #00af00\">64</span>)       │             <span style=\"color: #00af00; text-decoration-color: #00af00\">0</span> │\n",
       "├─────────────────────────────────┼────────────────────────┼───────────────┤\n",
       "│ conv2d_6 (<span style=\"color: #0087ff; text-decoration-color: #0087ff\">Conv2D</span>)               │ (<span style=\"color: #00d7ff; text-decoration-color: #00d7ff\">None</span>, <span style=\"color: #00af00; text-decoration-color: #00af00\">3</span>, <span style=\"color: #00af00; text-decoration-color: #00af00\">3</span>, <span style=\"color: #00af00; text-decoration-color: #00af00\">64</span>)       │        <span style=\"color: #00af00; text-decoration-color: #00af00\">36,928</span> │\n",
       "├─────────────────────────────────┼────────────────────────┼───────────────┤\n",
       "│ flatten_1 (<span style=\"color: #0087ff; text-decoration-color: #0087ff\">Flatten</span>)             │ (<span style=\"color: #00d7ff; text-decoration-color: #00d7ff\">None</span>, <span style=\"color: #00af00; text-decoration-color: #00af00\">576</span>)            │             <span style=\"color: #00af00; text-decoration-color: #00af00\">0</span> │\n",
       "├─────────────────────────────────┼────────────────────────┼───────────────┤\n",
       "│ dropout_2 (<span style=\"color: #0087ff; text-decoration-color: #0087ff\">Dropout</span>)             │ (<span style=\"color: #00d7ff; text-decoration-color: #00d7ff\">None</span>, <span style=\"color: #00af00; text-decoration-color: #00af00\">576</span>)            │             <span style=\"color: #00af00; text-decoration-color: #00af00\">0</span> │\n",
       "├─────────────────────────────────┼────────────────────────┼───────────────┤\n",
       "│ dense_2 (<span style=\"color: #0087ff; text-decoration-color: #0087ff\">Dense</span>)                 │ (<span style=\"color: #00d7ff; text-decoration-color: #00d7ff\">None</span>, <span style=\"color: #00af00; text-decoration-color: #00af00\">64</span>)             │        <span style=\"color: #00af00; text-decoration-color: #00af00\">36,928</span> │\n",
       "├─────────────────────────────────┼────────────────────────┼───────────────┤\n",
       "│ dropout_3 (<span style=\"color: #0087ff; text-decoration-color: #0087ff\">Dropout</span>)             │ (<span style=\"color: #00d7ff; text-decoration-color: #00d7ff\">None</span>, <span style=\"color: #00af00; text-decoration-color: #00af00\">64</span>)             │             <span style=\"color: #00af00; text-decoration-color: #00af00\">0</span> │\n",
       "├─────────────────────────────────┼────────────────────────┼───────────────┤\n",
       "│ dense_3 (<span style=\"color: #0087ff; text-decoration-color: #0087ff\">Dense</span>)                 │ (<span style=\"color: #00d7ff; text-decoration-color: #00d7ff\">None</span>, <span style=\"color: #00af00; text-decoration-color: #00af00\">10</span>)             │           <span style=\"color: #00af00; text-decoration-color: #00af00\">650</span> │\n",
       "└─────────────────────────────────┴────────────────────────┴───────────────┘\n",
       "</pre>\n"
      ]
     },
     "metadata": {},
     "output_type": "display_data"
    },
    {
     "data": {
      "text/plain": [
       "\u001B[1m Total params: \u001B[0m\u001B[38;5;34m93,322\u001B[0m (364.54 KB)\n"
      ],
      "text/html": [
       "<pre style=\"white-space:pre;overflow-x:auto;line-height:normal;font-family:Menlo,'DejaVu Sans Mono',consolas,'Courier New',monospace\"><span style=\"font-weight: bold\"> Total params: </span><span style=\"color: #00af00; text-decoration-color: #00af00\">93,322</span> (364.54 KB)\n",
       "</pre>\n"
      ]
     },
     "metadata": {},
     "output_type": "display_data"
    },
    {
     "data": {
      "text/plain": [
       "\u001B[1m Trainable params: \u001B[0m\u001B[38;5;34m93,322\u001B[0m (364.54 KB)\n"
      ],
      "text/html": [
       "<pre style=\"white-space:pre;overflow-x:auto;line-height:normal;font-family:Menlo,'DejaVu Sans Mono',consolas,'Courier New',monospace\"><span style=\"font-weight: bold\"> Trainable params: </span><span style=\"color: #00af00; text-decoration-color: #00af00\">93,322</span> (364.54 KB)\n",
       "</pre>\n"
      ]
     },
     "metadata": {},
     "output_type": "display_data"
    },
    {
     "data": {
      "text/plain": [
       "\u001B[1m Non-trainable params: \u001B[0m\u001B[38;5;34m0\u001B[0m (0.00 B)\n"
      ],
      "text/html": [
       "<pre style=\"white-space:pre;overflow-x:auto;line-height:normal;font-family:Menlo,'DejaVu Sans Mono',consolas,'Courier New',monospace\"><span style=\"font-weight: bold\"> Non-trainable params: </span><span style=\"color: #00af00; text-decoration-color: #00af00\">0</span> (0.00 B)\n",
       "</pre>\n"
      ]
     },
     "metadata": {},
     "output_type": "display_data"
    }
   ],
   "execution_count": 12
  },
  {
   "metadata": {
    "ExecuteTime": {
     "end_time": "2025-09-26T13:01:19.091630Z",
     "start_time": "2025-09-26T12:56:27.128177Z"
    }
   },
   "cell_type": "code",
   "source": [
    "from keras import ops\n",
    "\n",
    "\n",
    "def scheduler(epoch, lr):\n",
    "    if epoch < 10:\n",
    "        return lr\n",
    "    else:\n",
    "        return float(max(1e-5, lr * ops.exp(-0.1)))\n",
    "\n",
    "\n",
    "scheduler_callback = tf.keras.callbacks.LearningRateScheduler(scheduler)\n",
    "\n",
    "model.compile(optimizer='adam',\n",
    "              loss=tf.keras.losses.SparseCategoricalCrossentropy(from_logits=True),\n",
    "              metrics=['accuracy'])\n",
    "\n",
    "history = model.fit(train_digit_df_x_np,\n",
    "                    train_digit_df_y_np,\n",
    "                    epochs=50,\n",
    "                    batch_size=None,\n",
    "                    steps_per_epoch=None,\n",
    "                    verbose=2,\n",
    "                    validation_split=0.2,\n",
    "                    callbacks=[scheduler_callback]\n",
    "                    )"
   ],
   "id": "6cec58d82db49ea7",
   "outputs": [
    {
     "name": "stdout",
     "output_type": "stream",
     "text": [
      "Epoch 1/50\n",
      "1050/1050 - 7s - 6ms/step - accuracy: 0.8782 - loss: 0.4418 - val_accuracy: 0.9744 - val_loss: 0.0788 - learning_rate: 1.0000e-03\n",
      "Epoch 2/50\n",
      "1050/1050 - 6s - 5ms/step - accuracy: 0.9643 - loss: 0.1176 - val_accuracy: 0.9773 - val_loss: 0.0716 - learning_rate: 1.0000e-03\n",
      "Epoch 3/50\n",
      "1050/1050 - 6s - 6ms/step - accuracy: 0.9744 - loss: 0.0850 - val_accuracy: 0.9821 - val_loss: 0.0600 - learning_rate: 1.0000e-03\n",
      "Epoch 4/50\n",
      "1050/1050 - 6s - 5ms/step - accuracy: 0.9784 - loss: 0.0717 - val_accuracy: 0.9871 - val_loss: 0.0462 - learning_rate: 1.0000e-03\n",
      "Epoch 5/50\n",
      "1050/1050 - 6s - 6ms/step - accuracy: 0.9814 - loss: 0.0609 - val_accuracy: 0.9820 - val_loss: 0.0782 - learning_rate: 1.0000e-03\n",
      "Epoch 6/50\n",
      "1050/1050 - 6s - 6ms/step - accuracy: 0.9831 - loss: 0.0566 - val_accuracy: 0.9877 - val_loss: 0.0478 - learning_rate: 1.0000e-03\n",
      "Epoch 7/50\n",
      "1050/1050 - 6s - 6ms/step - accuracy: 0.9845 - loss: 0.0491 - val_accuracy: 0.9830 - val_loss: 0.0597 - learning_rate: 1.0000e-03\n",
      "Epoch 8/50\n",
      "1050/1050 - 6s - 5ms/step - accuracy: 0.9861 - loss: 0.0435 - val_accuracy: 0.9863 - val_loss: 0.0466 - learning_rate: 1.0000e-03\n",
      "Epoch 9/50\n",
      "1050/1050 - 6s - 6ms/step - accuracy: 0.9871 - loss: 0.0435 - val_accuracy: 0.9898 - val_loss: 0.0471 - learning_rate: 1.0000e-03\n",
      "Epoch 10/50\n",
      "1050/1050 - 6s - 6ms/step - accuracy: 0.9883 - loss: 0.0390 - val_accuracy: 0.9901 - val_loss: 0.0456 - learning_rate: 1.0000e-03\n",
      "Epoch 11/50\n",
      "1050/1050 - 6s - 6ms/step - accuracy: 0.9910 - loss: 0.0316 - val_accuracy: 0.9896 - val_loss: 0.0437 - learning_rate: 9.0484e-04\n",
      "Epoch 12/50\n",
      "1050/1050 - 6s - 6ms/step - accuracy: 0.9911 - loss: 0.0273 - val_accuracy: 0.9908 - val_loss: 0.0467 - learning_rate: 8.1873e-04\n",
      "Epoch 13/50\n",
      "1050/1050 - 6s - 5ms/step - accuracy: 0.9930 - loss: 0.0238 - val_accuracy: 0.9906 - val_loss: 0.0460 - learning_rate: 7.4082e-04\n",
      "Epoch 14/50\n",
      "1050/1050 - 6s - 6ms/step - accuracy: 0.9937 - loss: 0.0199 - val_accuracy: 0.9895 - val_loss: 0.0569 - learning_rate: 6.7032e-04\n",
      "Epoch 15/50\n",
      "1050/1050 - 6s - 6ms/step - accuracy: 0.9949 - loss: 0.0160 - val_accuracy: 0.9911 - val_loss: 0.0513 - learning_rate: 6.0653e-04\n",
      "Epoch 16/50\n",
      "1050/1050 - 6s - 5ms/step - accuracy: 0.9956 - loss: 0.0161 - val_accuracy: 0.9906 - val_loss: 0.0515 - learning_rate: 5.4881e-04\n",
      "Epoch 17/50\n",
      "1050/1050 - 6s - 6ms/step - accuracy: 0.9960 - loss: 0.0129 - val_accuracy: 0.9918 - val_loss: 0.0527 - learning_rate: 4.9659e-04\n",
      "Epoch 18/50\n",
      "1050/1050 - 6s - 5ms/step - accuracy: 0.9969 - loss: 0.0095 - val_accuracy: 0.9904 - val_loss: 0.0549 - learning_rate: 4.4933e-04\n",
      "Epoch 19/50\n",
      "1050/1050 - 6s - 6ms/step - accuracy: 0.9972 - loss: 0.0080 - val_accuracy: 0.9927 - val_loss: 0.0547 - learning_rate: 4.0657e-04\n",
      "Epoch 20/50\n",
      "1050/1050 - 6s - 6ms/step - accuracy: 0.9975 - loss: 0.0078 - val_accuracy: 0.9921 - val_loss: 0.0515 - learning_rate: 3.6788e-04\n",
      "Epoch 21/50\n",
      "1050/1050 - 6s - 6ms/step - accuracy: 0.9980 - loss: 0.0064 - val_accuracy: 0.9920 - val_loss: 0.0560 - learning_rate: 3.3287e-04\n",
      "Epoch 22/50\n",
      "1050/1050 - 6s - 6ms/step - accuracy: 0.9978 - loss: 0.0070 - val_accuracy: 0.9915 - val_loss: 0.0621 - learning_rate: 3.0119e-04\n",
      "Epoch 23/50\n",
      "1050/1050 - 5s - 5ms/step - accuracy: 0.9982 - loss: 0.0061 - val_accuracy: 0.9923 - val_loss: 0.0621 - learning_rate: 2.7253e-04\n",
      "Epoch 24/50\n",
      "1050/1050 - 6s - 5ms/step - accuracy: 0.9984 - loss: 0.0051 - val_accuracy: 0.9931 - val_loss: 0.0525 - learning_rate: 2.4660e-04\n",
      "Epoch 25/50\n",
      "1050/1050 - 6s - 5ms/step - accuracy: 0.9990 - loss: 0.0031 - val_accuracy: 0.9919 - val_loss: 0.0659 - learning_rate: 2.2313e-04\n",
      "Epoch 26/50\n",
      "1050/1050 - 6s - 6ms/step - accuracy: 0.9988 - loss: 0.0035 - val_accuracy: 0.9926 - val_loss: 0.0619 - learning_rate: 2.0190e-04\n",
      "Epoch 27/50\n",
      "1050/1050 - 6s - 6ms/step - accuracy: 0.9987 - loss: 0.0049 - val_accuracy: 0.9923 - val_loss: 0.0603 - learning_rate: 1.8268e-04\n",
      "Epoch 28/50\n",
      "1050/1050 - 6s - 5ms/step - accuracy: 0.9990 - loss: 0.0029 - val_accuracy: 0.9923 - val_loss: 0.0611 - learning_rate: 1.6530e-04\n",
      "Epoch 29/50\n",
      "1050/1050 - 6s - 5ms/step - accuracy: 0.9990 - loss: 0.0023 - val_accuracy: 0.9921 - val_loss: 0.0587 - learning_rate: 1.4957e-04\n",
      "Epoch 30/50\n",
      "1050/1050 - 6s - 6ms/step - accuracy: 0.9993 - loss: 0.0022 - val_accuracy: 0.9933 - val_loss: 0.0594 - learning_rate: 1.3534e-04\n",
      "Epoch 31/50\n",
      "1050/1050 - 6s - 6ms/step - accuracy: 0.9990 - loss: 0.0034 - val_accuracy: 0.9936 - val_loss: 0.0599 - learning_rate: 1.2246e-04\n",
      "Epoch 32/50\n",
      "1050/1050 - 6s - 6ms/step - accuracy: 0.9993 - loss: 0.0019 - val_accuracy: 0.9926 - val_loss: 0.0614 - learning_rate: 1.1080e-04\n",
      "Epoch 33/50\n",
      "1050/1050 - 6s - 6ms/step - accuracy: 0.9997 - loss: 0.0016 - val_accuracy: 0.9932 - val_loss: 0.0606 - learning_rate: 1.0026e-04\n",
      "Epoch 34/50\n",
      "1050/1050 - 6s - 6ms/step - accuracy: 0.9996 - loss: 0.0014 - val_accuracy: 0.9927 - val_loss: 0.0640 - learning_rate: 9.0718e-05\n",
      "Epoch 35/50\n",
      "1050/1050 - 6s - 6ms/step - accuracy: 0.9993 - loss: 0.0020 - val_accuracy: 0.9930 - val_loss: 0.0609 - learning_rate: 8.2085e-05\n",
      "Epoch 36/50\n",
      "1050/1050 - 6s - 6ms/step - accuracy: 0.9994 - loss: 0.0019 - val_accuracy: 0.9927 - val_loss: 0.0613 - learning_rate: 7.4274e-05\n",
      "Epoch 37/50\n",
      "1050/1050 - 6s - 6ms/step - accuracy: 0.9995 - loss: 0.0015 - val_accuracy: 0.9931 - val_loss: 0.0615 - learning_rate: 6.7206e-05\n",
      "Epoch 38/50\n",
      "1050/1050 - 6s - 6ms/step - accuracy: 0.9996 - loss: 0.0011 - val_accuracy: 0.9921 - val_loss: 0.0627 - learning_rate: 6.0810e-05\n",
      "Epoch 39/50\n",
      "1050/1050 - 5s - 5ms/step - accuracy: 0.9996 - loss: 0.0014 - val_accuracy: 0.9930 - val_loss: 0.0631 - learning_rate: 5.5023e-05\n",
      "Epoch 40/50\n",
      "1050/1050 - 6s - 6ms/step - accuracy: 0.9996 - loss: 0.0011 - val_accuracy: 0.9930 - val_loss: 0.0636 - learning_rate: 4.9787e-05\n",
      "Epoch 41/50\n",
      "1050/1050 - 6s - 5ms/step - accuracy: 0.9995 - loss: 0.0016 - val_accuracy: 0.9931 - val_loss: 0.0622 - learning_rate: 4.5049e-05\n",
      "Epoch 42/50\n",
      "1050/1050 - 6s - 5ms/step - accuracy: 0.9998 - loss: 6.9790e-04 - val_accuracy: 0.9926 - val_loss: 0.0633 - learning_rate: 4.0762e-05\n",
      "Epoch 43/50\n",
      "1050/1050 - 6s - 5ms/step - accuracy: 0.9996 - loss: 0.0014 - val_accuracy: 0.9933 - val_loss: 0.0620 - learning_rate: 3.6883e-05\n",
      "Epoch 44/50\n",
      "1050/1050 - 5s - 5ms/step - accuracy: 0.9996 - loss: 0.0010 - val_accuracy: 0.9931 - val_loss: 0.0619 - learning_rate: 3.3373e-05\n",
      "Epoch 45/50\n",
      "1050/1050 - 6s - 6ms/step - accuracy: 0.9997 - loss: 0.0012 - val_accuracy: 0.9933 - val_loss: 0.0614 - learning_rate: 3.0197e-05\n",
      "Epoch 46/50\n",
      "1050/1050 - 6s - 6ms/step - accuracy: 0.9997 - loss: 9.6787e-04 - val_accuracy: 0.9930 - val_loss: 0.0640 - learning_rate: 2.7324e-05\n",
      "Epoch 47/50\n",
      "1050/1050 - 6s - 5ms/step - accuracy: 0.9999 - loss: 6.1307e-04 - val_accuracy: 0.9933 - val_loss: 0.0627 - learning_rate: 2.4724e-05\n",
      "Epoch 48/50\n",
      "1050/1050 - 5s - 5ms/step - accuracy: 0.9996 - loss: 0.0011 - val_accuracy: 0.9926 - val_loss: 0.0635 - learning_rate: 2.2371e-05\n",
      "Epoch 49/50\n",
      "1050/1050 - 5s - 4ms/step - accuracy: 0.9997 - loss: 8.0286e-04 - val_accuracy: 0.9930 - val_loss: 0.0634 - learning_rate: 2.0242e-05\n",
      "Epoch 50/50\n",
      "1050/1050 - 5s - 5ms/step - accuracy: 0.9999 - loss: 6.8855e-04 - val_accuracy: 0.9933 - val_loss: 0.0638 - learning_rate: 1.8316e-05\n"
     ]
    }
   ],
   "execution_count": 13
  },
  {
   "metadata": {
    "ExecuteTime": {
     "end_time": "2025-09-26T13:01:19.184244Z",
     "start_time": "2025-09-26T13:01:19.112688Z"
    }
   },
   "cell_type": "code",
   "source": [
    "plt.plot(history.history['accuracy'], label='accuracy')\n",
    "plt.plot(history.history['val_accuracy'], label='val_accuracy')\n",
    "plt.xlabel('Epoch')\n",
    "plt.ylabel('Accuracy')\n",
    "plt.ylim([0.9, 1])\n",
    "plt.legend(loc='lower right')\n"
   ],
   "id": "5980cb0f7ada129",
   "outputs": [
    {
     "data": {
      "text/plain": [
       "<matplotlib.legend.Legend at 0x1eb2cd23f80>"
      ]
     },
     "execution_count": 14,
     "metadata": {},
     "output_type": "execute_result"
    },
    {
     "data": {
      "text/plain": [
       "<Figure size 640x480 with 1 Axes>"
      ],
      "image/png": "[encoded data removed]"
     },
     "metadata": {},
     "output_type": "display_data"
    }
   ],
   "execution_count": 14
  },
  {
   "metadata": {
    "ExecuteTime": {
     "end_time": "2025-09-26T13:01:22.506867Z",
     "start_time": "2025-09-26T13:01:19.199805Z"
    }
   },
   "cell_type": "code",
   "source": [
    "test_digit_df = pd.read_csv('inputs/test.csv', delimiter=',')\n",
    "\n",
    "predictions = model.predict(test_digit_df.to_numpy().reshape(-1, 28, 28, 1))\n",
    "predictions = np.argmax(predictions, axis=1)\n",
    "\n",
    "output = pd.DataFrame({'ImageId': test_digit_df.index + 1, 'Label': predictions.astype(int)})\n",
    "output.to_csv('submission.csv', index=False)\n",
    "\n",
    "print(\"Your submission was successfully saved!\")"
   ],
   "id": "824bfebf020ef090",
   "outputs": [
    {
     "name": "stdout",
     "output_type": "stream",
     "text": [
      "\u001B[1m875/875\u001B[0m \u001B[32m━━━━━━━━━━━━━━━━━━━━\u001B[0m\u001B[37m\u001B[0m \u001B[1m2s\u001B[0m 3ms/step\n",
      "Your submission was successfully saved!\n"
     ]
    }
   ],
   "execution_count": 15
  }
 ],
 "metadata": {
  "kernelspec": {
   "display_name": "Python 3",
   "language": "python",
   "name": "python3"
  },
  "language_info": {
   "codemirror_mode": {
    "name": "ipython",
    "version": 2
   },
   "file_extension": ".py",
   "mimetype": "text/x-python",
   "name": "python",
   "nbconvert_exporter": "python",
   "pygments_lexer": "ipython2",
   "version": "2.7.6"
  }
 },
 "nbformat": 4,
 "nbformat_minor": 5
}
