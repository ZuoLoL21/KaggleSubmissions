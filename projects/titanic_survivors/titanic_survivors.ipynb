{
 "cells": [
  {
   "cell_type": "code",
   "id": "initial_id",
   "metadata": {
    "collapsed": true,
    "ExecuteTime": {
     "end_time": "2025-09-18T00:41:47.587879Z",
     "start_time": "2025-09-18T00:41:47.580502Z"
    }
   },
   "source": [
    "import numpy as np\n",
    "import pandas as pd\n",
    "import matplotlib\n",
    "import os\n",
    "from plotly.matplotlylib.mplexporter.utils import PATH_DICT\n",
    "\n",
    "from sklearn.preprocessing import OneHotEncoder\n",
    "\n",
    "\n",
    "from sklearn.ensemble import RandomForestClassifier\n",
    "import sklearn\n",
    "import pickle\n"
   ],
   "outputs": [],
   "execution_count": 45
  },
  {
   "metadata": {
    "ExecuteTime": {
     "end_time": "2025-09-18T00:14:25.870944Z",
     "start_time": "2025-09-18T00:14:25.858854Z"
    }
   },
   "cell_type": "code",
   "source": [
    "def process_df(df: pd.DataFrame) -> pd.DataFrame:\n",
    "    # Drop useless features\n",
    "    df.drop(columns=[\"Name\",\"Ticket\"], inplace=True)\n",
    "    \n",
    "    # Deal with cabin\n",
    "    df[\"Deck\"] = df[\"Cabin\"].str.extract(r'([A-Za-z]+)')\n",
    "    df[\"Deck_Number\"] = df[\"Cabin\"].str.extract(r'(\\d+)')\n",
    "    df.drop(\"Cabin\", axis=1, inplace=True)\n",
    "\n",
    "    # Deal with sex\n",
    "    sex_map = {\"male\": 0, \"female\": 1}\n",
    "    df[\"Sex\"] = df[\"Sex\"].map(sex_map)\n",
    "\n",
    "    # Deal with N/A\n",
    "    df[\"Deck\"] = df[\"Deck\"].fillna(\"N/A\")\n",
    "    df[\"Embarked\"] = df[\"Embarked\"].fillna(\"N/A\")\n",
    "\n",
    "    # One-hot encode exp and port of embarkation\n",
    "    categorical_columns = [\"Embarked\", \"Deck\"]\n",
    "    encoder = OneHotEncoder(sparse_output=False)\n",
    "    one_hot_encoded = encoder.fit_transform(df[categorical_columns])\n",
    "    one_hot_df = pd.DataFrame(one_hot_encoded, columns=encoder.get_feature_names_out(categorical_columns))\n",
    "    df_encoded = pd.concat([df, one_hot_df], axis=1)\n",
    "    df_encoded = df_encoded.drop(categorical_columns, axis=1)\n",
    "\n",
    "    # Set index\n",
    "    df_encoded.set_index(\"PassengerId\", inplace=True)\n",
    "    return df_encoded\n"
   ],
   "id": "4a0788d164788b62",
   "outputs": [],
   "execution_count": 22
  },
  {
   "metadata": {
    "ExecuteTime": {
     "end_time": "2025-09-18T00:15:53.441472Z",
     "start_time": "2025-09-18T00:15:53.427612Z"
    }
   },
   "cell_type": "code",
   "source": "pd.read_csv(\"./inputs/train.csv\").head(10)",
   "id": "5733c5aa1f09ff67",
   "outputs": [
    {
     "data": {
      "text/plain": [
       "   PassengerId  Survived  Pclass  \\\n",
       "0            1         0       3   \n",
       "1            2         1       1   \n",
       "2            3         1       3   \n",
       "3            4         1       1   \n",
       "4            5         0       3   \n",
       "5            6         0       3   \n",
       "6            7         0       1   \n",
       "7            8         0       3   \n",
       "8            9         1       3   \n",
       "9           10         1       2   \n",
       "\n",
       "                                                Name     Sex   Age  SibSp  \\\n",
       "0                            Braund, Mr. Owen Harris    male  22.0      1   \n",
       "1  Cumings, Mrs. John Bradley (Florence Briggs Th...  female  38.0      1   \n",
       "2                             Heikkinen, Miss. Laina  female  26.0      0   \n",
       "3       Futrelle, Mrs. Jacques Heath (Lily May Peel)  female  35.0      1   \n",
       "4                           Allen, Mr. William Henry    male  35.0      0   \n",
       "5                                   Moran, Mr. James    male   NaN      0   \n",
       "6                            McCarthy, Mr. Timothy J    male  54.0      0   \n",
       "7                     Palsson, Master. Gosta Leonard    male   2.0      3   \n",
       "8  Johnson, Mrs. Oscar W (Elisabeth Vilhelmina Berg)  female  27.0      0   \n",
       "9                Nasser, Mrs. Nicholas (Adele Achem)  female  14.0      1   \n",
       "\n",
       "   Parch            Ticket     Fare Cabin Embarked  \n",
       "0      0         A/5 21171   7.2500   NaN        S  \n",
       "1      0          PC 17599  71.2833   C85        C  \n",
       "2      0  STON/O2. 3101282   7.9250   NaN        S  \n",
       "3      0            113803  53.1000  C123        S  \n",
       "4      0            373450   8.0500   NaN        S  \n",
       "5      0            330877   8.4583   NaN        Q  \n",
       "6      0             17463  51.8625   E46        S  \n",
       "7      1            349909  21.0750   NaN        S  \n",
       "8      2            347742  11.1333   NaN        S  \n",
       "9      0            237736  30.0708   NaN        C  "
      ],
      "text/html": [
       "<div>\n",
       "<style scoped>\n",
       "    .dataframe tbody tr th:only-of-type {\n",
       "        vertical-align: middle;\n",
       "    }\n",
       "\n",
       "    .dataframe tbody tr th {\n",
       "        vertical-align: top;\n",
       "    }\n",
       "\n",
       "    .dataframe thead th {\n",
       "        text-align: right;\n",
       "    }\n",
       "</style>\n",
       "<table border=\"1\" class=\"dataframe\">\n",
       "  <thead>\n",
       "    <tr style=\"text-align: right;\">\n",
       "      <th></th>\n",
       "      <th>PassengerId</th>\n",
       "      <th>Survived</th>\n",
       "      <th>Pclass</th>\n",
       "      <th>Name</th>\n",
       "      <th>Sex</th>\n",
       "      <th>Age</th>\n",
       "      <th>SibSp</th>\n",
       "      <th>Parch</th>\n",
       "      <th>Ticket</th>\n",
       "      <th>Fare</th>\n",
       "      <th>Cabin</th>\n",
       "      <th>Embarked</th>\n",
       "    </tr>\n",
       "  </thead>\n",
       "  <tbody>\n",
       "    <tr>\n",
       "      <th>0</th>\n",
       "      <td>1</td>\n",
       "      <td>0</td>\n",
       "      <td>3</td>\n",
       "      <td>Braund, Mr. Owen Harris</td>\n",
       "      <td>male</td>\n",
       "      <td>22.0</td>\n",
       "      <td>1</td>\n",
       "      <td>0</td>\n",
       "      <td>A/5 21171</td>\n",
       "      <td>7.2500</td>\n",
       "      <td>NaN</td>\n",
       "      <td>S</td>\n",
       "    </tr>\n",
       "    <tr>\n",
       "      <th>1</th>\n",
       "      <td>2</td>\n",
       "      <td>1</td>\n",
       "      <td>1</td>\n",
       "      <td>Cumings, Mrs. John Bradley (Florence Briggs Th...</td>\n",
       "      <td>female</td>\n",
       "      <td>38.0</td>\n",
       "      <td>1</td>\n",
       "      <td>0</td>\n",
       "      <td>PC 17599</td>\n",
       "      <td>71.2833</td>\n",
       "      <td>C85</td>\n",
       "      <td>C</td>\n",
       "    </tr>\n",
       "    <tr>\n",
       "      <th>2</th>\n",
       "      <td>3</td>\n",
       "      <td>1</td>\n",
       "      <td>3</td>\n",
       "      <td>Heikkinen, Miss. Laina</td>\n",
       "      <td>female</td>\n",
       "      <td>26.0</td>\n",
       "      <td>0</td>\n",
       "      <td>0</td>\n",
       "      <td>STON/O2. 3101282</td>\n",
       "      <td>7.9250</td>\n",
       "      <td>NaN</td>\n",
       "      <td>S</td>\n",
       "    </tr>\n",
       "    <tr>\n",
       "      <th>3</th>\n",
       "      <td>4</td>\n",
       "      <td>1</td>\n",
       "      <td>1</td>\n",
       "      <td>Futrelle, Mrs. Jacques Heath (Lily May Peel)</td>\n",
       "      <td>female</td>\n",
       "      <td>35.0</td>\n",
       "      <td>1</td>\n",
       "      <td>0</td>\n",
       "      <td>113803</td>\n",
       "      <td>53.1000</td>\n",
       "      <td>C123</td>\n",
       "      <td>S</td>\n",
       "    </tr>\n",
       "    <tr>\n",
       "      <th>4</th>\n",
       "      <td>5</td>\n",
       "      <td>0</td>\n",
       "      <td>3</td>\n",
       "      <td>Allen, Mr. William Henry</td>\n",
       "      <td>male</td>\n",
       "      <td>35.0</td>\n",
       "      <td>0</td>\n",
       "      <td>0</td>\n",
       "      <td>373450</td>\n",
       "      <td>8.0500</td>\n",
       "      <td>NaN</td>\n",
       "      <td>S</td>\n",
       "    </tr>\n",
       "    <tr>\n",
       "      <th>5</th>\n",
       "      <td>6</td>\n",
       "      <td>0</td>\n",
       "      <td>3</td>\n",
       "      <td>Moran, Mr. James</td>\n",
       "      <td>male</td>\n",
       "      <td>NaN</td>\n",
       "      <td>0</td>\n",
       "      <td>0</td>\n",
       "      <td>330877</td>\n",
       "      <td>8.4583</td>\n",
       "      <td>NaN</td>\n",
       "      <td>Q</td>\n",
       "    </tr>\n",
       "    <tr>\n",
       "      <th>6</th>\n",
       "      <td>7</td>\n",
       "      <td>0</td>\n",
       "      <td>1</td>\n",
       "      <td>McCarthy, Mr. Timothy J</td>\n",
       "      <td>male</td>\n",
       "      <td>54.0</td>\n",
       "      <td>0</td>\n",
       "      <td>0</td>\n",
       "      <td>17463</td>\n",
       "      <td>51.8625</td>\n",
       "      <td>E46</td>\n",
       "      <td>S</td>\n",
       "    </tr>\n",
       "    <tr>\n",
       "      <th>7</th>\n",
       "      <td>8</td>\n",
       "      <td>0</td>\n",
       "      <td>3</td>\n",
       "      <td>Palsson, Master. Gosta Leonard</td>\n",
       "      <td>male</td>\n",
       "      <td>2.0</td>\n",
       "      <td>3</td>\n",
       "      <td>1</td>\n",
       "      <td>349909</td>\n",
       "      <td>21.0750</td>\n",
       "      <td>NaN</td>\n",
       "      <td>S</td>\n",
       "    </tr>\n",
       "    <tr>\n",
       "      <th>8</th>\n",
       "      <td>9</td>\n",
       "      <td>1</td>\n",
       "      <td>3</td>\n",
       "      <td>Johnson, Mrs. Oscar W (Elisabeth Vilhelmina Berg)</td>\n",
       "      <td>female</td>\n",
       "      <td>27.0</td>\n",
       "      <td>0</td>\n",
       "      <td>2</td>\n",
       "      <td>347742</td>\n",
       "      <td>11.1333</td>\n",
       "      <td>NaN</td>\n",
       "      <td>S</td>\n",
       "    </tr>\n",
       "    <tr>\n",
       "      <th>9</th>\n",
       "      <td>10</td>\n",
       "      <td>1</td>\n",
       "      <td>2</td>\n",
       "      <td>Nasser, Mrs. Nicholas (Adele Achem)</td>\n",
       "      <td>female</td>\n",
       "      <td>14.0</td>\n",
       "      <td>1</td>\n",
       "      <td>0</td>\n",
       "      <td>237736</td>\n",
       "      <td>30.0708</td>\n",
       "      <td>NaN</td>\n",
       "      <td>C</td>\n",
       "    </tr>\n",
       "  </tbody>\n",
       "</table>\n",
       "</div>"
      ]
     },
     "execution_count": 24,
     "metadata": {},
     "output_type": "execute_result"
    }
   ],
   "execution_count": 24
  },
  {
   "metadata": {
    "ExecuteTime": {
     "end_time": "2025-09-18T00:16:32.971948Z",
     "start_time": "2025-09-18T00:16:32.947342Z"
    }
   },
   "cell_type": "code",
   "source": [
    "# Import DF\n",
    "train_val_df : pd.DataFrame = pd.read_csv(\"./inputs/train.csv\")\n",
    "test_df : pd.DataFrame = pd.read_csv(\"./inputs/test.csv\")\n",
    "\n",
    "index = train_val_df.shape[0]\n",
    "total = process_df(pd.concat([train_val_df, test_df], ignore_index=True))\n",
    "\n",
    "train_val_df = total.iloc[:index]\n",
    "test_df = total.iloc[index:]\n"
   ],
   "id": "7dfd18ee23eacd14",
   "outputs": [],
   "execution_count": 25
  },
  {
   "metadata": {
    "ExecuteTime": {
     "end_time": "2025-09-18T00:16:34.841622Z",
     "start_time": "2025-09-18T00:16:34.837618Z"
    }
   },
   "cell_type": "code",
   "source": [
    "def test_random_forest(x, y, x_val, y_val, **kwargs):\n",
    "    model = get_model(x,y,**kwargs)\n",
    "    pred = model.predict(x_val)\n",
    "    return compare(pred, y_val)\n",
    "\n",
    "def get_model(x,y, **kwargs):\n",
    "    model = RandomForestClassifier(**kwargs)\n",
    "    model.fit(x, y)\n",
    "    return model\n",
    "\n",
    "def compare(pred, y):\n",
    "    return np.count_nonzero(y.to_numpy() == pred) / len(y)"
   ],
   "id": "405e4e754d9ff159",
   "outputs": [],
   "execution_count": 26
  },
  {
   "metadata": {
    "ExecuteTime": {
     "end_time": "2025-09-18T00:41:00.049901Z",
     "start_time": "2025-09-18T00:40:10.425299Z"
    }
   },
   "cell_type": "code",
   "source": [
    "# Finding the best hyperparameters by averaging performance based on cross validation\n",
    "FILE_LOC = \"./saved/calculated.pkl\"\n",
    "\n",
    "n_estimators_s = range(25,200,25)\n",
    "max_depth_s = range(1,15)\n",
    "\n",
    "results = pickle.load(open(FILE_LOC, 'rb')) if os.path.exists(FILE_LOC) else {}\n",
    "\n",
    "kf = sklearn.model_selection.KFold(random_state=42, n_splits=5, shuffle=True)\n",
    "\n",
    "for n_estimators in n_estimators_s:\n",
    "    for max_depth in max_depth_s:\n",
    "        if results.get((n_estimators, max_depth)) is not None:\n",
    "            print(f\"Skipping {n_estimators} {max_depth} {results.get((n_estimators, max_depth))}\")\n",
    "            continue\n",
    "\n",
    "        average = []\n",
    "        for train_index, val_index in kf.split(train_val_df):\n",
    "            train_df = train_val_df.iloc[train_index]\n",
    "            val_df = train_val_df.iloc[val_index]\n",
    "\n",
    "            train_y = train_df[\"Survived\"]\n",
    "            train_x = train_df.drop(\"Survived\", axis=1)\n",
    "\n",
    "            val_y = val_df[\"Survived\"]\n",
    "            val_x = val_df.drop(\"Survived\", axis=1)\n",
    "\n",
    "            average.append(test_random_forest(train_x, train_y, val_x, val_y, n_estimators=n_estimators, random_state=1, max_depth=max_depth))\n",
    "        print(n_estimators, max_depth, np.mean(average), sep=\"\\t\")\n",
    "        results[(n_estimators, max_depth)] = np.mean(average)\n",
    "\n",
    "with open(FILE_LOC, 'wb') as file:\n",
    "    pickle.dump(results, file)"
   ],
   "id": "1e47baa9e52901b6",
   "outputs": [
    {
     "name": "stdout",
     "output_type": "stream",
     "text": [
      "25\t1\t0.7082041303119703\n",
      "25\t2\t0.7800326407632918\n",
      "25\t3\t0.7878915322327538\n",
      "25\t4\t0.8103446111355218\n",
      "25\t5\t0.8159374803841567\n",
      "25\t6\t0.8204318624066286\n",
      "25\t7\t0.8193208210407382\n",
      "25\t8\t0.8193082669010107\n",
      "25\t9\t0.8148076078086749\n",
      "25\t10\t0.8103383340656581\n",
      "25\t11\t0.8114556525014125\n",
      "25\t12\t0.8204193082669009\n",
      "25\t13\t0.8092210156299041\n",
      "25\t14\t0.8069738246186681\n",
      "50\t1\t0.7250455087565124\n",
      "50\t2\t0.7642897495449124\n",
      "50\t3\t0.7890276818780994\n",
      "50\t4\t0.81146820664114\n",
      "50\t5\t0.8226727763480008\n",
      "50\t6\t0.824913690289373\n",
      "50\t7\t0.8215554579122466\n",
      "50\t8\t0.8193082669010107\n",
      "50\t9\t0.8215491808423827\n",
      "50\t10\t0.8182097796748478\n",
      "50\t11\t0.8305442219571904\n",
      "50\t12\t0.8260372857949909\n",
      "50\t13\t0.8204695248258111\n",
      "50\t14\t0.819327098110602\n",
      "75\t1\t0.7025861527838805\n",
      "75\t2\t0.7564371351453142\n",
      "75\t3\t0.784514468646036\n",
      "75\t4\t0.8035904839620865\n",
      "75\t5\t0.8204318624066286\n",
      "75\t6\t0.8260372857949909\n",
      "75\t7\t0.8204444165463561\n",
      "75\t8\t0.8182035026049841\n",
      "75\t9\t0.8181846713953927\n",
      "75\t10\t0.8215805661917017\n",
      "75\t11\t0.827185989580064\n",
      "75\t12\t0.8271608813006089\n",
      "75\t13\t0.8215868432615656\n",
      "75\t14\t0.8215805661917017\n",
      "Skipping 100 1 0.7037097482894985\n",
      "Skipping 100 2 0.7564434122151779\n",
      "Skipping 100 3 0.789002573598644\n",
      "Skipping 100 4 0.8058502291130502\n",
      "Skipping 100 5 0.821542903772519\n",
      "Skipping 100 6 0.8249074132195091\n",
      "Skipping 100 7 0.8181909484652564\n",
      "Skipping 100 8 0.8215617349821104\n",
      "Skipping 100 9 0.8181972255351202\n",
      "100\t10\t0.819327098110602\n",
      "100\t11\t0.8182097796748478\n",
      "100\t12\t0.8282844768062269\n",
      "100\t13\t0.8193396522503296\n",
      "100\t14\t0.8193459293201932\n",
      "125\t1\t0.7138158307701964\n",
      "125\t2\t0.7631661540392944\n",
      "125\t3\t0.7890025735986441\n",
      "125\t4\t0.803603038101814\n",
      "125\t5\t0.8260372857949909\n",
      "125\t6\t0.8215366267026554\n",
      "125\t7\t0.8193145439708743\n",
      "125\t8\t0.8226790534178645\n",
      "125\t9\t0.8215554579122466\n",
      "125\t10\t0.8193333751804659\n",
      "125\t11\t0.8204569706860838\n",
      "125\t12\t0.8260435628648548\n",
      "125\t13\t0.8182097796748478\n",
      "125\t14\t0.8193396522503296\n",
      "150\t1\t0.7126922352645785\n",
      "150\t2\t0.7676730902014939\n",
      "150\t3\t0.7912560416797438\n",
      "150\t4\t0.8024857196660597\n",
      "150\t5\t0.8260310087251271\n",
      "150\t6\t0.8237900947837551\n",
      "150\t7\t0.8215491808423827\n",
      "150\t8\t0.8271734354403364\n",
      "150\t9\t0.8226790534178645\n",
      "150\t10\t0.8204569706860838\n",
      "150\t11\t0.8215805661917017\n",
      "150\t12\t0.8260498399347185\n",
      "150\t13\t0.8170861841692296\n",
      "150\t14\t0.8148515472977212\n",
      "175\t1\t0.7138095537003327\n",
      "175\t2\t0.7699202812127299\n",
      "175\t3\t0.7923733601154981\n",
      "175\t4\t0.8013621241604418\n",
      "175\t5\t0.8260310087251271\n",
      "175\t6\t0.824913690289373\n",
      "175\t7\t0.8181846713953925\n",
      "175\t8\t0.8249262444291003\n",
      "175\t9\t0.8238089259933463\n",
      "175\t10\t0.8159688657334756\n",
      "175\t11\t0.8249513527085556\n",
      "175\t12\t0.8238089259933463\n",
      "175\t13\t0.8170861841692298\n",
      "175\t14\t0.8182097796748478\n"
     ]
    }
   ],
   "execution_count": 42
  },
  {
   "metadata": {
    "ExecuteTime": {
     "end_time": "2025-09-18T00:41:00.073923Z",
     "start_time": "2025-09-18T00:41:00.055021Z"
    }
   },
   "cell_type": "code",
   "source": [
    "data = np.zeros((len(n_estimators_s), len(max_depth_s)))\n",
    "\n",
    "for i, n_estimators in enumerate(n_estimators_s):\n",
    "    for j, max_depth in enumerate(max_depth_s):\n",
    "        data[i, j] = results[(n_estimators, max_depth)]\n",
    "\n",
    "z_data = pd.DataFrame(data)\n",
    "\n",
    "import plotly.graph_objects as go\n",
    "\n",
    "fig = go.Figure(data=[go.Surface(x=list(max_depth_s), y=list(n_estimators_s), z=z_data)])\n",
    "fig.update_traces(contours_z=dict(show=True, usecolormap=True,\n",
    "                                  highlightcolor=\"limegreen\", project_z=True))\n",
    "fig.update_layout(title=dict(text='Hyperparameter tuning graph'), autosize=False,\n",
    "                  scene_camera_eye=dict(x=1.87, y=0.88, z=-0.64),\n",
    "                  width=500, height=500,\n",
    "                  margin=dict(l=65, r=50, b=65, t=90)\n",
    ")\n",
    "\n",
    "fig.show()"
   ],
   "id": "cdd147e714c79a78",
   "outputs": [
    {
     "data": {
      "application/vnd.plotly.v1+json": {
       "data": [
        {
         "x": [
          1,
          2,
          3,
          4,
          5,
          6,
          7,
          8,
          9,
          10,
          11,
          12,
          13,
          14
         ],
         "y": [
          25,
          50,
          75,
          100,
          125,
          150,
          175
         ],
         "z": {
          "dtype": "f8",
          "bdata": "B6BStZup5j/igTwDB/boPy6Fd01oNuk/EyRq0lfu6T87lDrrKBzqPz1ANFL6QOo/q6hpTOA36j891XX4xTfqP4M/gmfnEuo/XTpwqEru6T+ouzTYcffpP85sQP7fQOo/FbmreCPl6T8T4y7FutLpP6IRh6OSM+c/atTexg916D+dwyn7tj/pPxaPKCyM9+k/iCy321VT6j/SGDplsWXqPz6r8qsuSuo/PdV1+MU36j+GwfiBIUrqPxgRn0bGLuo/QgPmedGT6j/Sg/i+5W7qP4a6D05JQeo/YpJjdu036j8FiZr0lXvmP9W6naa7NOg/dVpCFr4a6T+jzv9jA7fpPz1ANFL6QOo/0oP4vuVu6j+rEyimFEHqP2InpRy5Luo/PWq3npEu6j8aUtpTY0rqP66VnsBOeOo/0+62GBp46j/SO9R9cErqPxpS2lNjSuo/BvRYTsqE5j+LpJfQyDToP78cQlOCP+k/E3hwa4bJ6T/Q1/5XFErqPxovQDukZeo/81OxyJ4u6j/1lOzVO0rqP6o9q/KrLuo/YpJjdu036j8YEZ9Gxi7qP9NZdXJOgeo/0GVXygc46j+GT1H0FDjqP1PNEEyU1+Y/amkgbdtr6D/AHEJTgj/pPxCi87cdt+k/0oP4vuVu6j8a7gQuB0rqP/O+byLTN+o/PhaxBWNT6j8+q/KrLkrqPxp8XaD6N+o/Gucb+i5B6j+KbfLo8m7qPxgRn0bGLuo/0GVXygc46j9TYlLyX87mP9roDSjHkOg/eNy4MPhR6T/GIC+I9q3pPxua/pTYbuo/0q17C31c6j+GwfiBIUrqP0DCqmw0eOo/PhaxBWNT6j8a5xv6LkHqPxpS2lNjSuo/QFfsEgBv6j8WpuDskSXqP4OjV41DE+o/neMWIofX5j/cvorbL6PoP8JdfWAfW+k/xrVwLsKk6T8bmv6U2G7qP9IYOmWxZeo/O2q3npEu6j8+7C25y2XqP/ZqaYmkXOo/ziQcvWoc6j8bkxVhAGbqP/ZqaYmkXOo/GKbg7JEl6j8YEZ9Gxi7qPw==",
          "shape": "7, 14"
         },
         "type": "surface",
         "contours": {
          "z": {
           "project": {
            "z": true
           },
           "highlightcolor": "limegreen",
           "show": true,
           "usecolormap": true
          }
         }
        }
       ],
       "layout": {
        "template": {
         "data": {
          "histogram2dcontour": [
           {
            "type": "histogram2dcontour",
            "colorbar": {
             "outlinewidth": 0,
             "ticks": ""
            },
            "colorscale": [
             [
              0.0,
              "#0d0887"
             ],
             [
              0.1111111111111111,
              "#46039f"
             ],
             [
              0.2222222222222222,
              "#7201a8"
             ],
             [
              0.3333333333333333,
              "#9c179e"
             ],
             [
              0.4444444444444444,
              "#bd3786"
             ],
             [
              0.5555555555555556,
              "#d8576b"
             ],
             [
              0.6666666666666666,
              "#ed7953"
             ],
             [
              0.7777777777777778,
              "#fb9f3a"
             ],
             [
              0.8888888888888888,
              "#fdca26"
             ],
             [
              1.0,
              "#f0f921"
             ]
            ]
           }
          ],
          "choropleth": [
           {
            "type": "choropleth",
            "colorbar": {
             "outlinewidth": 0,
             "ticks": ""
            }
           }
          ],
          "histogram2d": [
           {
            "type": "histogram2d",
            "colorbar": {
             "outlinewidth": 0,
             "ticks": ""
            },
            "colorscale": [
             [
              0.0,
              "#0d0887"
             ],
             [
              0.1111111111111111,
              "#46039f"
             ],
             [
              0.2222222222222222,
              "#7201a8"
             ],
             [
              0.3333333333333333,
              "#9c179e"
             ],
             [
              0.4444444444444444,
              "#bd3786"
             ],
             [
              0.5555555555555556,
              "#d8576b"
             ],
             [
              0.6666666666666666,
              "#ed7953"
             ],
             [
              0.7777777777777778,
              "#fb9f3a"
             ],
             [
              0.8888888888888888,
              "#fdca26"
             ],
             [
              1.0,
              "#f0f921"
             ]
            ]
           }
          ],
          "heatmap": [
           {
            "type": "heatmap",
            "colorbar": {
             "outlinewidth": 0,
             "ticks": ""
            },
            "colorscale": [
             [
              0.0,
              "#0d0887"
             ],
             [
              0.1111111111111111,
              "#46039f"
             ],
             [
              0.2222222222222222,
              "#7201a8"
             ],
             [
              0.3333333333333333,
              "#9c179e"
             ],
             [
              0.4444444444444444,
              "#bd3786"
             ],
             [
              0.5555555555555556,
              "#d8576b"
             ],
             [
              0.6666666666666666,
              "#ed7953"
             ],
             [
              0.7777777777777778,
              "#fb9f3a"
             ],
             [
              0.8888888888888888,
              "#fdca26"
             ],
             [
              1.0,
              "#f0f921"
             ]
            ]
           }
          ],
          "contourcarpet": [
           {
            "type": "contourcarpet",
            "colorbar": {
             "outlinewidth": 0,
             "ticks": ""
            }
           }
          ],
          "contour": [
           {
            "type": "contour",
            "colorbar": {
             "outlinewidth": 0,
             "ticks": ""
            },
            "colorscale": [
             [
              0.0,
              "#0d0887"
             ],
             [
              0.1111111111111111,
              "#46039f"
             ],
             [
              0.2222222222222222,
              "#7201a8"
             ],
             [
              0.3333333333333333,
              "#9c179e"
             ],
             [
              0.4444444444444444,
              "#bd3786"
             ],
             [
              0.5555555555555556,
              "#d8576b"
             ],
             [
              0.6666666666666666,
              "#ed7953"
             ],
             [
              0.7777777777777778,
              "#fb9f3a"
             ],
             [
              0.8888888888888888,
              "#fdca26"
             ],
             [
              1.0,
              "#f0f921"
             ]
            ]
           }
          ],
          "surface": [
           {
            "type": "surface",
            "colorbar": {
             "outlinewidth": 0,
             "ticks": ""
            },
            "colorscale": [
             [
              0.0,
              "#0d0887"
             ],
             [
              0.1111111111111111,
              "#46039f"
             ],
             [
              0.2222222222222222,
              "#7201a8"
             ],
             [
              0.3333333333333333,
              "#9c179e"
             ],
             [
              0.4444444444444444,
              "#bd3786"
             ],
             [
              0.5555555555555556,
              "#d8576b"
             ],
             [
              0.6666666666666666,
              "#ed7953"
             ],
             [
              0.7777777777777778,
              "#fb9f3a"
             ],
             [
              0.8888888888888888,
              "#fdca26"
             ],
             [
              1.0,
              "#f0f921"
             ]
            ]
           }
          ],
          "mesh3d": [
           {
            "type": "mesh3d",
            "colorbar": {
             "outlinewidth": 0,
             "ticks": ""
            }
           }
          ],
          "scatter": [
           {
            "marker": {
             "line": {
              "color": "#283442"
             }
            },
            "type": "scatter"
           }
          ],
          "parcoords": [
           {
            "type": "parcoords",
            "line": {
             "colorbar": {
              "outlinewidth": 0,
              "ticks": ""
             }
            }
           }
          ],
          "scatterpolargl": [
           {
            "type": "scatterpolargl",
            "marker": {
             "colorbar": {
              "outlinewidth": 0,
              "ticks": ""
             }
            }
           }
          ],
          "bar": [
           {
            "error_x": {
             "color": "#f2f5fa"
            },
            "error_y": {
             "color": "#f2f5fa"
            },
            "marker": {
             "line": {
              "color": "rgb(17,17,17)",
              "width": 0.5
             },
             "pattern": {
              "fillmode": "overlay",
              "size": 10,
              "solidity": 0.2
             }
            },
            "type": "bar"
           }
          ],
          "scattergeo": [
           {
            "type": "scattergeo",
            "marker": {
             "colorbar": {
              "outlinewidth": 0,
              "ticks": ""
             }
            }
           }
          ],
          "scatterpolar": [
           {
            "type": "scatterpolar",
            "marker": {
             "colorbar": {
              "outlinewidth": 0,
              "ticks": ""
             }
            }
           }
          ],
          "histogram": [
           {
            "marker": {
             "pattern": {
              "fillmode": "overlay",
              "size": 10,
              "solidity": 0.2
             }
            },
            "type": "histogram"
           }
          ],
          "scattergl": [
           {
            "marker": {
             "line": {
              "color": "#283442"
             }
            },
            "type": "scattergl"
           }
          ],
          "scatter3d": [
           {
            "type": "scatter3d",
            "line": {
             "colorbar": {
              "outlinewidth": 0,
              "ticks": ""
             }
            },
            "marker": {
             "colorbar": {
              "outlinewidth": 0,
              "ticks": ""
             }
            }
           }
          ],
          "scattermap": [
           {
            "type": "scattermap",
            "marker": {
             "colorbar": {
              "outlinewidth": 0,
              "ticks": ""
             }
            }
           }
          ],
          "scattermapbox": [
           {
            "type": "scattermapbox",
            "marker": {
             "colorbar": {
              "outlinewidth": 0,
              "ticks": ""
             }
            }
           }
          ],
          "scatterternary": [
           {
            "type": "scatterternary",
            "marker": {
             "colorbar": {
              "outlinewidth": 0,
              "ticks": ""
             }
            }
           }
          ],
          "scattercarpet": [
           {
            "type": "scattercarpet",
            "marker": {
             "colorbar": {
              "outlinewidth": 0,
              "ticks": ""
             }
            }
           }
          ],
          "carpet": [
           {
            "aaxis": {
             "endlinecolor": "#A2B1C6",
             "gridcolor": "#506784",
             "linecolor": "#506784",
             "minorgridcolor": "#506784",
             "startlinecolor": "#A2B1C6"
            },
            "baxis": {
             "endlinecolor": "#A2B1C6",
             "gridcolor": "#506784",
             "linecolor": "#506784",
             "minorgridcolor": "#506784",
             "startlinecolor": "#A2B1C6"
            },
            "type": "carpet"
           }
          ],
          "table": [
           {
            "cells": {
             "fill": {
              "color": "#506784"
             },
             "line": {
              "color": "rgb(17,17,17)"
             }
            },
            "header": {
             "fill": {
              "color": "#2a3f5f"
             },
             "line": {
              "color": "rgb(17,17,17)"
             }
            },
            "type": "table"
           }
          ],
          "barpolar": [
           {
            "marker": {
             "line": {
              "color": "rgb(17,17,17)",
              "width": 0.5
             },
             "pattern": {
              "fillmode": "overlay",
              "size": 10,
              "solidity": 0.2
             }
            },
            "type": "barpolar"
           }
          ],
          "pie": [
           {
            "automargin": true,
            "type": "pie"
           }
          ]
         },
         "layout": {
          "autotypenumbers": "strict",
          "colorway": [
           "#636efa",
           "#EF553B",
           "#00cc96",
           "#ab63fa",
           "#FFA15A",
           "#19d3f3",
           "#FF6692",
           "#B6E880",
           "#FF97FF",
           "#FECB52"
          ],
          "font": {
           "color": "#f2f5fa"
          },
          "hovermode": "closest",
          "hoverlabel": {
           "align": "left"
          },
          "paper_bgcolor": "rgb(17,17,17)",
          "plot_bgcolor": "rgb(17,17,17)",
          "polar": {
           "bgcolor": "rgb(17,17,17)",
           "angularaxis": {
            "gridcolor": "#506784",
            "linecolor": "#506784",
            "ticks": ""
           },
           "radialaxis": {
            "gridcolor": "#506784",
            "linecolor": "#506784",
            "ticks": ""
           }
          },
          "ternary": {
           "bgcolor": "rgb(17,17,17)",
           "aaxis": {
            "gridcolor": "#506784",
            "linecolor": "#506784",
            "ticks": ""
           },
           "baxis": {
            "gridcolor": "#506784",
            "linecolor": "#506784",
            "ticks": ""
           },
           "caxis": {
            "gridcolor": "#506784",
            "linecolor": "#506784",
            "ticks": ""
           }
          },
          "coloraxis": {
           "colorbar": {
            "outlinewidth": 0,
            "ticks": ""
           }
          },
          "colorscale": {
           "sequential": [
            [
             0.0,
             "#0d0887"
            ],
            [
             0.1111111111111111,
             "#46039f"
            ],
            [
             0.2222222222222222,
             "#7201a8"
            ],
            [
             0.3333333333333333,
             "#9c179e"
            ],
            [
             0.4444444444444444,
             "#bd3786"
            ],
            [
             0.5555555555555556,
             "#d8576b"
            ],
            [
             0.6666666666666666,
             "#ed7953"
            ],
            [
             0.7777777777777778,
             "#fb9f3a"
            ],
            [
             0.8888888888888888,
             "#fdca26"
            ],
            [
             1.0,
             "#f0f921"
            ]
           ],
           "sequentialminus": [
            [
             0.0,
             "#0d0887"
            ],
            [
             0.1111111111111111,
             "#46039f"
            ],
            [
             0.2222222222222222,
             "#7201a8"
            ],
            [
             0.3333333333333333,
             "#9c179e"
            ],
            [
             0.4444444444444444,
             "#bd3786"
            ],
            [
             0.5555555555555556,
             "#d8576b"
            ],
            [
             0.6666666666666666,
             "#ed7953"
            ],
            [
             0.7777777777777778,
             "#fb9f3a"
            ],
            [
             0.8888888888888888,
             "#fdca26"
            ],
            [
             1.0,
             "#f0f921"
            ]
           ],
           "diverging": [
            [
             0,
             "#8e0152"
            ],
            [
             0.1,
             "#c51b7d"
            ],
            [
             0.2,
             "#de77ae"
            ],
            [
             0.3,
             "#f1b6da"
            ],
            [
             0.4,
             "#fde0ef"
            ],
            [
             0.5,
             "#f7f7f7"
            ],
            [
             0.6,
             "#e6f5d0"
            ],
            [
             0.7,
             "#b8e186"
            ],
            [
             0.8,
             "#7fbc41"
            ],
            [
             0.9,
             "#4d9221"
            ],
            [
             1,
             "#276419"
            ]
           ]
          },
          "xaxis": {
           "gridcolor": "#283442",
           "linecolor": "#506784",
           "ticks": "",
           "title": {
            "standoff": 15
           },
           "zerolinecolor": "#283442",
           "automargin": true,
           "zerolinewidth": 2
          },
          "yaxis": {
           "gridcolor": "#283442",
           "linecolor": "#506784",
           "ticks": "",
           "title": {
            "standoff": 15
           },
           "zerolinecolor": "#283442",
           "automargin": true,
           "zerolinewidth": 2
          },
          "scene": {
           "xaxis": {
            "backgroundcolor": "rgb(17,17,17)",
            "gridcolor": "#506784",
            "linecolor": "#506784",
            "showbackground": true,
            "ticks": "",
            "zerolinecolor": "#C8D4E3",
            "gridwidth": 2
           },
           "yaxis": {
            "backgroundcolor": "rgb(17,17,17)",
            "gridcolor": "#506784",
            "linecolor": "#506784",
            "showbackground": true,
            "ticks": "",
            "zerolinecolor": "#C8D4E3",
            "gridwidth": 2
           },
           "zaxis": {
            "backgroundcolor": "rgb(17,17,17)",
            "gridcolor": "#506784",
            "linecolor": "#506784",
            "showbackground": true,
            "ticks": "",
            "zerolinecolor": "#C8D4E3",
            "gridwidth": 2
           }
          },
          "shapedefaults": {
           "line": {
            "color": "#f2f5fa"
           }
          },
          "annotationdefaults": {
           "arrowcolor": "#f2f5fa",
           "arrowhead": 0,
           "arrowwidth": 1
          },
          "geo": {
           "bgcolor": "rgb(17,17,17)",
           "landcolor": "rgb(17,17,17)",
           "subunitcolor": "#506784",
           "showland": true,
           "showlakes": true,
           "lakecolor": "rgb(17,17,17)"
          },
          "title": {
           "x": 0.05
          },
          "updatemenudefaults": {
           "bgcolor": "#506784",
           "borderwidth": 0
          },
          "sliderdefaults": {
           "bgcolor": "#C8D4E3",
           "borderwidth": 1,
           "bordercolor": "rgb(17,17,17)",
           "tickwidth": 0
          },
          "mapbox": {
           "style": "dark"
          }
         }
        },
        "title": {
         "text": "Hyperparameter tuning graph"
        },
        "scene": {
         "camera": {
          "eye": {
           "x": 1.87,
           "y": 0.88,
           "z": -0.64
          }
         }
        },
        "margin": {
         "l": 65,
         "r": 50,
         "b": 65,
         "t": 90
        },
        "autosize": false,
        "width": 500,
        "height": 500
       },
       "config": {
        "plotlyServerURL": "https://plot.ly"
       }
      }
     },
     "metadata": {},
     "output_type": "display_data"
    }
   ],
   "execution_count": 43
  },
  {
   "metadata": {
    "ExecuteTime": {
     "end_time": "2025-09-18T00:45:11.746695Z",
     "start_time": "2025-09-18T00:45:10.982965Z"
    }
   },
   "cell_type": "code",
   "source": [
    "train_df = train_val_df #.sample(frac=0.8, random_state=1)\n",
    "\n",
    "train_y = train_df[\"Survived\"]\n",
    "train_x = train_df.drop(\"Survived\", axis=1)\n",
    "\n",
    "model = get_model(train_x, train_y, n_estimators=500, random_state=1, max_depth=11)\n",
    "predictions = model.predict(test_df.drop(\"Survived\", axis=1))\n",
    "\n",
    "output = pd.DataFrame({'PassengerId': test_df.index, 'Survived': predictions.astype(int)})\n",
    "output.to_csv('submission.csv', index=False)\n",
    "\n",
    "print(\"Your submission was successfully saved!\")"
   ],
   "id": "b92636fc644f07d3",
   "outputs": [
    {
     "name": "stdout",
     "output_type": "stream",
     "text": [
      "Your submission was successfully saved!\n"
     ]
    }
   ],
   "execution_count": 46
  }
 ],
 "metadata": {
  "kernelspec": {
   "display_name": "Python 3",
   "language": "python",
   "name": "python3"
  },
  "language_info": {
   "codemirror_mode": {
    "name": "ipython",
    "version": 2
   },
   "file_extension": ".py",
   "mimetype": "text/x-python",
   "name": "python",
   "nbconvert_exporter": "python",
   "pygments_lexer": "ipython2",
   "version": "2.7.6"
  }
 },
 "nbformat": 4,
 "nbformat_minor": 5
}
