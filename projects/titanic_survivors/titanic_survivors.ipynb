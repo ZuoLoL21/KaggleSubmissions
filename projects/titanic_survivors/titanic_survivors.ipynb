{
 "cells": [
  {
   "metadata": {},
   "cell_type": "markdown",
   "source": "### Imports",
   "id": "6898559fe1551c51"
  },
  {
   "cell_type": "code",
   "id": "initial_id",
   "metadata": {
    "collapsed": true,
    "ExecuteTime": {
     "end_time": "2025-09-19T15:46:32.041606Z",
     "start_time": "2025-09-19T15:46:32.031144Z"
    }
   },
   "source": [
    "import numpy as np\n",
    "\n",
    "import os\n",
    "\n",
    "from sklearn.preprocessing import OneHotEncoder\n",
    "from sklearn.ensemble import RandomForestClassifier\n",
    "\n",
    "import sklearn\n",
    "import pickle\n",
    "\n",
    "import regex as re"
   ],
   "outputs": [],
   "execution_count": 9
  },
  {
   "metadata": {
    "ExecuteTime": {
     "end_time": "2025-09-19T15:46:32.070345Z",
     "start_time": "2025-09-19T15:46:32.052154Z"
    }
   },
   "cell_type": "code",
   "source": "from common.data_helper import *\n",
   "id": "9b1f894ec7e31437",
   "outputs": [],
   "execution_count": 10
  },
  {
   "metadata": {},
   "cell_type": "markdown",
   "source": "### Science stuff",
   "id": "660065f41ff043bc"
  },
  {
   "metadata": {},
   "cell_type": "markdown",
   "source": "#### Functions",
   "id": "a30eea7b918c0b4b"
  },
  {
   "metadata": {
    "ExecuteTime": {
     "end_time": "2025-09-19T15:46:34.442548Z",
     "start_time": "2025-09-19T15:46:34.432301Z"
    }
   },
   "cell_type": "code",
   "source": [
    "def apply_regex(regex):\n",
    "\tp = re.compile(regex)\n",
    "\n",
    "\tdef matcher(x):\n",
    "\t\tif pd.isna(x):\n",
    "\t\t\treturn None\n",
    "\t\tmatch = p.search(str(x))  # Convert to string\n",
    "\t\treturn match.group(1) if match else None\n",
    "\n",
    "\treturn matcher\n"
   ],
   "id": "155a7b23ea5ef2dd",
   "outputs": [],
   "execution_count": 11
  },
  {
   "metadata": {},
   "cell_type": "markdown",
   "source": "#### Describe DF",
   "id": "1587e73c50f02835"
  },
  {
   "metadata": {
    "ExecuteTime": {
     "end_time": "2025-09-19T15:46:36.631159Z",
     "start_time": "2025-09-19T15:46:36.558790Z"
    }
   },
   "cell_type": "code",
   "source": "pd.read_csv(\"./inputs/train.csv\").head(10)",
   "id": "4828c8a2e95d48e0",
   "outputs": [
    {
     "data": {
      "text/plain": [
       "   PassengerId  Survived  Pclass  \\\n",
       "0            1         0       3   \n",
       "1            2         1       1   \n",
       "2            3         1       3   \n",
       "3            4         1       1   \n",
       "4            5         0       3   \n",
       "5            6         0       3   \n",
       "6            7         0       1   \n",
       "7            8         0       3   \n",
       "8            9         1       3   \n",
       "9           10         1       2   \n",
       "\n",
       "                                                Name     Sex   Age  SibSp  \\\n",
       "0                            Braund, Mr. Owen Harris    male  22.0      1   \n",
       "1  Cumings, Mrs. John Bradley (Florence Briggs Th...  female  38.0      1   \n",
       "2                             Heikkinen, Miss. Laina  female  26.0      0   \n",
       "3       Futrelle, Mrs. Jacques Heath (Lily May Peel)  female  35.0      1   \n",
       "4                           Allen, Mr. William Henry    male  35.0      0   \n",
       "5                                   Moran, Mr. James    male   NaN      0   \n",
       "6                            McCarthy, Mr. Timothy J    male  54.0      0   \n",
       "7                     Palsson, Master. Gosta Leonard    male   2.0      3   \n",
       "8  Johnson, Mrs. Oscar W (Elisabeth Vilhelmina Berg)  female  27.0      0   \n",
       "9                Nasser, Mrs. Nicholas (Adele Achem)  female  14.0      1   \n",
       "\n",
       "   Parch            Ticket     Fare Cabin Embarked  \n",
       "0      0         A/5 21171   7.2500   NaN        S  \n",
       "1      0          PC 17599  71.2833   C85        C  \n",
       "2      0  STON/O2. 3101282   7.9250   NaN        S  \n",
       "3      0            113803  53.1000  C123        S  \n",
       "4      0            373450   8.0500   NaN        S  \n",
       "5      0            330877   8.4583   NaN        Q  \n",
       "6      0             17463  51.8625   E46        S  \n",
       "7      1            349909  21.0750   NaN        S  \n",
       "8      2            347742  11.1333   NaN        S  \n",
       "9      0            237736  30.0708   NaN        C  "
      ],
      "text/html": [
       "<div>\n",
       "<style scoped>\n",
       "    .dataframe tbody tr th:only-of-type {\n",
       "        vertical-align: middle;\n",
       "    }\n",
       "\n",
       "    .dataframe tbody tr th {\n",
       "        vertical-align: top;\n",
       "    }\n",
       "\n",
       "    .dataframe thead th {\n",
       "        text-align: right;\n",
       "    }\n",
       "</style>\n",
       "<table border=\"1\" class=\"dataframe\">\n",
       "  <thead>\n",
       "    <tr style=\"text-align: right;\">\n",
       "      <th></th>\n",
       "      <th>PassengerId</th>\n",
       "      <th>Survived</th>\n",
       "      <th>Pclass</th>\n",
       "      <th>Name</th>\n",
       "      <th>Sex</th>\n",
       "      <th>Age</th>\n",
       "      <th>SibSp</th>\n",
       "      <th>Parch</th>\n",
       "      <th>Ticket</th>\n",
       "      <th>Fare</th>\n",
       "      <th>Cabin</th>\n",
       "      <th>Embarked</th>\n",
       "    </tr>\n",
       "  </thead>\n",
       "  <tbody>\n",
       "    <tr>\n",
       "      <th>0</th>\n",
       "      <td>1</td>\n",
       "      <td>0</td>\n",
       "      <td>3</td>\n",
       "      <td>Braund, Mr. Owen Harris</td>\n",
       "      <td>male</td>\n",
       "      <td>22.0</td>\n",
       "      <td>1</td>\n",
       "      <td>0</td>\n",
       "      <td>A/5 21171</td>\n",
       "      <td>7.2500</td>\n",
       "      <td>NaN</td>\n",
       "      <td>S</td>\n",
       "    </tr>\n",
       "    <tr>\n",
       "      <th>1</th>\n",
       "      <td>2</td>\n",
       "      <td>1</td>\n",
       "      <td>1</td>\n",
       "      <td>Cumings, Mrs. John Bradley (Florence Briggs Th...</td>\n",
       "      <td>female</td>\n",
       "      <td>38.0</td>\n",
       "      <td>1</td>\n",
       "      <td>0</td>\n",
       "      <td>PC 17599</td>\n",
       "      <td>71.2833</td>\n",
       "      <td>C85</td>\n",
       "      <td>C</td>\n",
       "    </tr>\n",
       "    <tr>\n",
       "      <th>2</th>\n",
       "      <td>3</td>\n",
       "      <td>1</td>\n",
       "      <td>3</td>\n",
       "      <td>Heikkinen, Miss. Laina</td>\n",
       "      <td>female</td>\n",
       "      <td>26.0</td>\n",
       "      <td>0</td>\n",
       "      <td>0</td>\n",
       "      <td>STON/O2. 3101282</td>\n",
       "      <td>7.9250</td>\n",
       "      <td>NaN</td>\n",
       "      <td>S</td>\n",
       "    </tr>\n",
       "    <tr>\n",
       "      <th>3</th>\n",
       "      <td>4</td>\n",
       "      <td>1</td>\n",
       "      <td>1</td>\n",
       "      <td>Futrelle, Mrs. Jacques Heath (Lily May Peel)</td>\n",
       "      <td>female</td>\n",
       "      <td>35.0</td>\n",
       "      <td>1</td>\n",
       "      <td>0</td>\n",
       "      <td>113803</td>\n",
       "      <td>53.1000</td>\n",
       "      <td>C123</td>\n",
       "      <td>S</td>\n",
       "    </tr>\n",
       "    <tr>\n",
       "      <th>4</th>\n",
       "      <td>5</td>\n",
       "      <td>0</td>\n",
       "      <td>3</td>\n",
       "      <td>Allen, Mr. William Henry</td>\n",
       "      <td>male</td>\n",
       "      <td>35.0</td>\n",
       "      <td>0</td>\n",
       "      <td>0</td>\n",
       "      <td>373450</td>\n",
       "      <td>8.0500</td>\n",
       "      <td>NaN</td>\n",
       "      <td>S</td>\n",
       "    </tr>\n",
       "    <tr>\n",
       "      <th>5</th>\n",
       "      <td>6</td>\n",
       "      <td>0</td>\n",
       "      <td>3</td>\n",
       "      <td>Moran, Mr. James</td>\n",
       "      <td>male</td>\n",
       "      <td>NaN</td>\n",
       "      <td>0</td>\n",
       "      <td>0</td>\n",
       "      <td>330877</td>\n",
       "      <td>8.4583</td>\n",
       "      <td>NaN</td>\n",
       "      <td>Q</td>\n",
       "    </tr>\n",
       "    <tr>\n",
       "      <th>6</th>\n",
       "      <td>7</td>\n",
       "      <td>0</td>\n",
       "      <td>1</td>\n",
       "      <td>McCarthy, Mr. Timothy J</td>\n",
       "      <td>male</td>\n",
       "      <td>54.0</td>\n",
       "      <td>0</td>\n",
       "      <td>0</td>\n",
       "      <td>17463</td>\n",
       "      <td>51.8625</td>\n",
       "      <td>E46</td>\n",
       "      <td>S</td>\n",
       "    </tr>\n",
       "    <tr>\n",
       "      <th>7</th>\n",
       "      <td>8</td>\n",
       "      <td>0</td>\n",
       "      <td>3</td>\n",
       "      <td>Palsson, Master. Gosta Leonard</td>\n",
       "      <td>male</td>\n",
       "      <td>2.0</td>\n",
       "      <td>3</td>\n",
       "      <td>1</td>\n",
       "      <td>349909</td>\n",
       "      <td>21.0750</td>\n",
       "      <td>NaN</td>\n",
       "      <td>S</td>\n",
       "    </tr>\n",
       "    <tr>\n",
       "      <th>8</th>\n",
       "      <td>9</td>\n",
       "      <td>1</td>\n",
       "      <td>3</td>\n",
       "      <td>Johnson, Mrs. Oscar W (Elisabeth Vilhelmina Berg)</td>\n",
       "      <td>female</td>\n",
       "      <td>27.0</td>\n",
       "      <td>0</td>\n",
       "      <td>2</td>\n",
       "      <td>347742</td>\n",
       "      <td>11.1333</td>\n",
       "      <td>NaN</td>\n",
       "      <td>S</td>\n",
       "    </tr>\n",
       "    <tr>\n",
       "      <th>9</th>\n",
       "      <td>10</td>\n",
       "      <td>1</td>\n",
       "      <td>2</td>\n",
       "      <td>Nasser, Mrs. Nicholas (Adele Achem)</td>\n",
       "      <td>female</td>\n",
       "      <td>14.0</td>\n",
       "      <td>1</td>\n",
       "      <td>0</td>\n",
       "      <td>237736</td>\n",
       "      <td>30.0708</td>\n",
       "      <td>NaN</td>\n",
       "      <td>C</td>\n",
       "    </tr>\n",
       "  </tbody>\n",
       "</table>\n",
       "</div>"
      ]
     },
     "execution_count": 12,
     "metadata": {},
     "output_type": "execute_result"
    }
   ],
   "execution_count": 12
  },
  {
   "metadata": {
    "ExecuteTime": {
     "end_time": "2025-09-19T15:46:36.672442Z",
     "start_time": "2025-09-19T15:46:36.638207Z"
    }
   },
   "cell_type": "code",
   "source": "pd.read_csv(\"./inputs/train.csv\").info(show_counts=True)",
   "id": "b2549cc8b9092145",
   "outputs": [
    {
     "name": "stdout",
     "output_type": "stream",
     "text": [
      "<class 'pandas.core.frame.DataFrame'>\n",
      "RangeIndex: 891 entries, 0 to 890\n",
      "Data columns (total 12 columns):\n",
      " #   Column       Non-Null Count  Dtype  \n",
      "---  ------       --------------  -----  \n",
      " 0   PassengerId  891 non-null    int64  \n",
      " 1   Survived     891 non-null    int64  \n",
      " 2   Pclass       891 non-null    int64  \n",
      " 3   Name         891 non-null    object \n",
      " 4   Sex          891 non-null    object \n",
      " 5   Age          714 non-null    float64\n",
      " 6   SibSp        891 non-null    int64  \n",
      " 7   Parch        891 non-null    int64  \n",
      " 8   Ticket       891 non-null    object \n",
      " 9   Fare         891 non-null    float64\n",
      " 10  Cabin        204 non-null    object \n",
      " 11  Embarked     889 non-null    object \n",
      "dtypes: float64(2), int64(5), object(5)\n",
      "memory usage: 83.7+ KB\n"
     ]
    }
   ],
   "execution_count": 13
  },
  {
   "metadata": {},
   "cell_type": "markdown",
   "source": "#### Describe columns",
   "id": "f3bd7d747f68983b"
  },
  {
   "metadata": {
    "ExecuteTime": {
     "end_time": "2025-09-19T15:46:39.083540Z",
     "start_time": "2025-09-19T15:46:39.064989Z"
    }
   },
   "cell_type": "code",
   "source": "df_to_analyse: pd.DataFrame = pd.read_csv(\"./inputs/train.csv\")",
   "id": "64d6179dffd0a543",
   "outputs": [],
   "execution_count": 14
  },
  {
   "metadata": {
    "ExecuteTime": {
     "end_time": "2025-09-19T15:46:39.166116Z",
     "start_time": "2025-09-19T15:46:39.099674Z"
    }
   },
   "cell_type": "code",
   "source": "summarize_categorical_columns_wrt_target(df_to_analyse, 'Pclass', 'Survived')",
   "id": "6d85bedb743a28e2",
   "outputs": [
    {
     "data": {
      "text/html": [
       "<table border=\"1\" class=\"dataframe\">\n",
       "  <thead>\n",
       "    <tr style=\"text-align: right;\">\n",
       "      <th></th>\n",
       "      <th>Pclass</th>\n",
       "      <th>count</th>\n",
       "      <th>mean</th>\n",
       "      <th>sum</th>\n",
       "    </tr>\n",
       "  </thead>\n",
       "  <tbody>\n",
       "    <tr>\n",
       "      <th>0</th>\n",
       "      <td>1</td>\n",
       "      <td>216</td>\n",
       "      <td>0.629630</td>\n",
       "      <td>136</td>\n",
       "    </tr>\n",
       "    <tr>\n",
       "      <th>1</th>\n",
       "      <td>2</td>\n",
       "      <td>184</td>\n",
       "      <td>0.472826</td>\n",
       "      <td>87</td>\n",
       "    </tr>\n",
       "    <tr>\n",
       "      <th>2</th>\n",
       "      <td>3</td>\n",
       "      <td>491</td>\n",
       "      <td>0.242363</td>\n",
       "      <td>119</td>\n",
       "    </tr>\n",
       "  </tbody>\n",
       "</table>"
      ]
     },
     "metadata": {},
     "output_type": "display_data"
    }
   ],
   "execution_count": 15
  },
  {
   "metadata": {
    "ExecuteTime": {
     "end_time": "2025-09-19T15:46:39.211356Z",
     "start_time": "2025-09-19T15:46:39.185165Z"
    }
   },
   "cell_type": "code",
   "source": [
    "tmp_df = pd.DataFrame(df_to_analyse[\"Cabin\"].apply(apply_regex('([A-Za-z]+)')), columns=[\"Cabin\"])\n",
    "tmp_df[\"Survived\"] = df_to_analyse[\"Survived\"]\n",
    "tmp_df.dropna(subset=[\"Cabin\"], inplace=True)\n",
    "\n",
    "summarize_categorical_columns_wrt_target(tmp_df, 'Cabin', 'Survived')"
   ],
   "id": "ad130dd578a5e1b",
   "outputs": [
    {
     "data": {
      "text/html": [
       "<table border=\"1\" class=\"dataframe\">\n",
       "  <thead>\n",
       "    <tr style=\"text-align: right;\">\n",
       "      <th></th>\n",
       "      <th>Cabin</th>\n",
       "      <th>count</th>\n",
       "      <th>mean</th>\n",
       "      <th>sum</th>\n",
       "    </tr>\n",
       "  </thead>\n",
       "  <tbody>\n",
       "    <tr>\n",
       "      <th>0</th>\n",
       "      <td>A</td>\n",
       "      <td>15</td>\n",
       "      <td>0.466667</td>\n",
       "      <td>7</td>\n",
       "    </tr>\n",
       "    <tr>\n",
       "      <th>1</th>\n",
       "      <td>B</td>\n",
       "      <td>47</td>\n",
       "      <td>0.744681</td>\n",
       "      <td>35</td>\n",
       "    </tr>\n",
       "    <tr>\n",
       "      <th>2</th>\n",
       "      <td>C</td>\n",
       "      <td>59</td>\n",
       "      <td>0.593220</td>\n",
       "      <td>35</td>\n",
       "    </tr>\n",
       "    <tr>\n",
       "      <th>3</th>\n",
       "      <td>D</td>\n",
       "      <td>33</td>\n",
       "      <td>0.757576</td>\n",
       "      <td>25</td>\n",
       "    </tr>\n",
       "    <tr>\n",
       "      <th>4</th>\n",
       "      <td>E</td>\n",
       "      <td>32</td>\n",
       "      <td>0.750000</td>\n",
       "      <td>24</td>\n",
       "    </tr>\n",
       "    <tr>\n",
       "      <th>5</th>\n",
       "      <td>F</td>\n",
       "      <td>13</td>\n",
       "      <td>0.615385</td>\n",
       "      <td>8</td>\n",
       "    </tr>\n",
       "    <tr>\n",
       "      <th>6</th>\n",
       "      <td>G</td>\n",
       "      <td>4</td>\n",
       "      <td>0.500000</td>\n",
       "      <td>2</td>\n",
       "    </tr>\n",
       "    <tr>\n",
       "      <th>7</th>\n",
       "      <td>T</td>\n",
       "      <td>1</td>\n",
       "      <td>0.000000</td>\n",
       "      <td>0</td>\n",
       "    </tr>\n",
       "  </tbody>\n",
       "</table>"
      ]
     },
     "metadata": {},
     "output_type": "display_data"
    }
   ],
   "execution_count": 16
  },
  {
   "metadata": {
    "ExecuteTime": {
     "end_time": "2025-09-19T15:46:39.866111Z",
     "start_time": "2025-09-19T15:46:39.237913Z"
    }
   },
   "cell_type": "code",
   "source": [
    "tmp_df = pd.DataFrame(df_to_analyse[\"Cabin\"].apply(apply_regex('([1-9]+)')), columns=[\"Cabin\"])\n",
    "tmp_df[\"Survived\"] = df_to_analyse[\"Survived\"]\n",
    "tmp_df.dropna(subset=[\"Cabin\"], inplace=True)\n",
    "\n",
    "summarize_continuous_columns_wrt_target(tmp_df.astype(int), 'Cabin', 'Survived')\n",
    "show_distribution(tmp_df.astype(int), \"Cabin\", \"Survived\")"
   ],
   "id": "af4ad4587f3a47e6",
   "outputs": [
    {
     "data": {
      "text/plain": [
       "<Figure size 600x300 with 2 Axes>"
      ],
      "image/png": "[encoded data removed]"
     },
     "metadata": {},
     "output_type": "display_data"
    },
    {
     "data": {
      "text/plain": [
       "<Figure size 640x480 with 1 Axes>"
      ],
      "image/png": "[encoded data removed]"
     },
     "metadata": {},
     "output_type": "display_data"
    }
   ],
   "execution_count": 17
  },
  {
   "metadata": {
    "ExecuteTime": {
     "end_time": "2025-09-19T15:46:39.901301Z",
     "start_time": "2025-09-19T15:46:39.887614Z"
    }
   },
   "cell_type": "code",
   "source": "summarize_categorical_columns_wrt_target(df_to_analyse, 'Sex', 'Survived')",
   "id": "9eecbcdd42110f66",
   "outputs": [
    {
     "data": {
      "text/html": [
       "<table border=\"1\" class=\"dataframe\">\n",
       "  <thead>\n",
       "    <tr style=\"text-align: right;\">\n",
       "      <th></th>\n",
       "      <th>Sex</th>\n",
       "      <th>count</th>\n",
       "      <th>mean</th>\n",
       "      <th>sum</th>\n",
       "    </tr>\n",
       "  </thead>\n",
       "  <tbody>\n",
       "    <tr>\n",
       "      <th>0</th>\n",
       "      <td>female</td>\n",
       "      <td>314</td>\n",
       "      <td>0.742038</td>\n",
       "      <td>233</td>\n",
       "    </tr>\n",
       "    <tr>\n",
       "      <th>1</th>\n",
       "      <td>male</td>\n",
       "      <td>577</td>\n",
       "      <td>0.188908</td>\n",
       "      <td>109</td>\n",
       "    </tr>\n",
       "  </tbody>\n",
       "</table>"
      ]
     },
     "metadata": {},
     "output_type": "display_data"
    }
   ],
   "execution_count": 18
  },
  {
   "metadata": {
    "ExecuteTime": {
     "end_time": "2025-09-19T15:46:39.935825Z",
     "start_time": "2025-09-19T15:46:39.921172Z"
    }
   },
   "cell_type": "code",
   "source": "summarize_categorical_columns_wrt_target(df_to_analyse, 'Embarked', 'Survived')",
   "id": "cd968f6a4d976605",
   "outputs": [
    {
     "data": {
      "text/html": [
       "<table border=\"1\" class=\"dataframe\">\n",
       "  <thead>\n",
       "    <tr style=\"text-align: right;\">\n",
       "      <th></th>\n",
       "      <th>Embarked</th>\n",
       "      <th>count</th>\n",
       "      <th>mean</th>\n",
       "      <th>sum</th>\n",
       "    </tr>\n",
       "  </thead>\n",
       "  <tbody>\n",
       "    <tr>\n",
       "      <th>0</th>\n",
       "      <td>C</td>\n",
       "      <td>168</td>\n",
       "      <td>0.553571</td>\n",
       "      <td>93</td>\n",
       "    </tr>\n",
       "    <tr>\n",
       "      <th>1</th>\n",
       "      <td>Q</td>\n",
       "      <td>77</td>\n",
       "      <td>0.389610</td>\n",
       "      <td>30</td>\n",
       "    </tr>\n",
       "    <tr>\n",
       "      <th>2</th>\n",
       "      <td>S</td>\n",
       "      <td>644</td>\n",
       "      <td>0.336957</td>\n",
       "      <td>217</td>\n",
       "    </tr>\n",
       "  </tbody>\n",
       "</table>"
      ]
     },
     "metadata": {},
     "output_type": "display_data"
    }
   ],
   "execution_count": 19
  },
  {
   "metadata": {
    "ExecuteTime": {
     "end_time": "2025-09-19T15:46:40.560369Z",
     "start_time": "2025-09-19T15:46:39.954056Z"
    }
   },
   "cell_type": "code",
   "source": [
    "summarize_continuous_columns_wrt_target(df_to_analyse, 'Age', 'Survived')\n",
    "\n",
    "show_distribution(df_to_analyse, \"Age\", \"Survived\")\n"
   ],
   "id": "b2ed59f4fbe430b4",
   "outputs": [
    {
     "data": {
      "text/plain": [
       "<Figure size 600x300 with 2 Axes>"
      ],
      "image/png": "[encoded data removed]"
     },
     "metadata": {},
     "output_type": "display_data"
    },
    {
     "data": {
      "text/plain": [
       "<Figure size 640x480 with 1 Axes>"
      ],
      "image/png": "[encoded data removed]"
     },
     "metadata": {},
     "output_type": "display_data"
    }
   ],
   "execution_count": 20
  },
  {
   "metadata": {
    "ExecuteTime": {
     "end_time": "2025-09-19T15:46:42.099513Z",
     "start_time": "2025-09-19T15:46:40.572511Z"
    }
   },
   "cell_type": "code",
   "source": "summarize_continuous_columns_wrt_target(df_to_analyse, 'Age', 'Survived', row='Pclass')",
   "id": "a2ac4adb550bc302",
   "outputs": [
    {
     "data": {
      "text/plain": [
       "<Figure size 640x600 with 6 Axes>"
      ],
      "image/png": "[encoded data removed]"
     },
     "metadata": {},
     "output_type": "display_data"
    }
   ],
   "execution_count": 21
  },
  {
   "metadata": {
    "ExecuteTime": {
     "end_time": "2025-09-19T15:46:43.073368Z",
     "start_time": "2025-09-19T15:46:42.118564Z"
    }
   },
   "cell_type": "code",
   "source": [
    "g = sns.FacetGrid(df_to_analyse, row='Pclass', height=2, aspect=1.6)\n",
    "g.map(sns.pointplot,\n",
    "\t  'Embarked',\n",
    "\t  'Survived',\n",
    "\t  'Sex',\n",
    "\t  hue_order=['male', 'female'],\n",
    "\t  order=['C', 'Q', 'S'],\n",
    "\t  palette='dark:#1f77b4')\n",
    "g.add_legend()\n",
    "plt.show()"
   ],
   "id": "ea50ba458dc7a544",
   "outputs": [
    {
     "data": {
      "text/plain": [
       "<Figure size 411.875x600 with 3 Axes>"
      ],
      "image/png": "[encoded data removed]"
     },
     "metadata": {},
     "output_type": "display_data"
    }
   ],
   "execution_count": 22
  },
  {
   "metadata": {
    "ExecuteTime": {
     "end_time": "2025-09-19T15:46:43.248686Z",
     "start_time": "2025-09-19T15:46:43.098659Z"
    }
   },
   "cell_type": "code",
   "source": [
    "describe_continuous_series(df_to_analyse['Fare'])\n",
    "\n",
    "show_distribution(df_to_analyse, \"Fare\", \"Survived\", max_x=250)\n"
   ],
   "id": "470e03f6029838d",
   "outputs": [
    {
     "data": {
      "text/html": [
       "<table><tr><td style=\"vertical-align:top; text-align:center; padding:10px\"><h3 style=\"text-align:center\">Description</h3><table style=\"display:inline\" border=\"1\" class=\"dataframe\">\n",
       "  <thead>\n",
       "    <tr style=\"text-align: right;\">\n",
       "      <th></th>\n",
       "      <th>Fare</th>\n",
       "    </tr>\n",
       "  </thead>\n",
       "  <tbody>\n",
       "    <tr>\n",
       "      <th>count</th>\n",
       "      <td>891.000000</td>\n",
       "    </tr>\n",
       "    <tr>\n",
       "      <th>mean</th>\n",
       "      <td>32.204208</td>\n",
       "    </tr>\n",
       "    <tr>\n",
       "      <th>std</th>\n",
       "      <td>49.693429</td>\n",
       "    </tr>\n",
       "    <tr>\n",
       "      <th>min</th>\n",
       "      <td>0.000000</td>\n",
       "    </tr>\n",
       "    <tr>\n",
       "      <th>25%</th>\n",
       "      <td>7.910400</td>\n",
       "    </tr>\n",
       "    <tr>\n",
       "      <th>50%</th>\n",
       "      <td>14.454200</td>\n",
       "    </tr>\n",
       "    <tr>\n",
       "      <th>75%</th>\n",
       "      <td>31.000000</td>\n",
       "    </tr>\n",
       "    <tr>\n",
       "      <th>max</th>\n",
       "      <td>512.329200</td>\n",
       "    </tr>\n",
       "  </tbody>\n",
       "</table style=\"display:inline\"></td><td style=\"vertical-align:top; text-align:center; padding:10px\"><h3 style=\"text-align:center\">Count</h3><table style=\"display:inline\" border=\"1\" class=\"dataframe\">\n",
       "  <thead>\n",
       "    <tr style=\"text-align: right;\">\n",
       "      <th></th>\n",
       "      <th>count</th>\n",
       "    </tr>\n",
       "  </thead>\n",
       "  <tbody>\n",
       "    <tr>\n",
       "      <th>(-0.513, 51.233]</th>\n",
       "      <td>732</td>\n",
       "    </tr>\n",
       "    <tr>\n",
       "      <th>(51.233, 102.466]</th>\n",
       "      <td>106</td>\n",
       "    </tr>\n",
       "    <tr>\n",
       "      <th>(102.466, 153.699]</th>\n",
       "      <td>31</td>\n",
       "    </tr>\n",
       "    <tr>\n",
       "      <th>(204.932, 256.165]</th>\n",
       "      <td>11</td>\n",
       "    </tr>\n",
       "    <tr>\n",
       "      <th>(256.165, 307.398]</th>\n",
       "      <td>6</td>\n",
       "    </tr>\n",
       "    <tr>\n",
       "      <th>(461.096, 512.329]</th>\n",
       "      <td>3</td>\n",
       "    </tr>\n",
       "    <tr>\n",
       "      <th>(153.699, 204.932]</th>\n",
       "      <td>2</td>\n",
       "    </tr>\n",
       "    <tr>\n",
       "      <th>(307.398, 358.63]</th>\n",
       "      <td>0</td>\n",
       "    </tr>\n",
       "    <tr>\n",
       "      <th>(358.63, 409.863]</th>\n",
       "      <td>0</td>\n",
       "    </tr>\n",
       "    <tr>\n",
       "      <th>(409.863, 461.096]</th>\n",
       "      <td>0</td>\n",
       "    </tr>\n",
       "  </tbody>\n",
       "</table style=\"display:inline\"></td></tr></table>"
      ]
     },
     "metadata": {},
     "output_type": "display_data"
    },
    {
     "data": {
      "text/plain": [
       "<Figure size 640x480 with 1 Axes>"
      ],
      "image/png": "[encoded data removed]"
     },
     "metadata": {},
     "output_type": "display_data"
    }
   ],
   "execution_count": 23
  },
  {
   "metadata": {
    "ExecuteTime": {
     "end_time": "2025-09-19T15:46:43.288723Z",
     "start_time": "2025-09-19T15:46:43.257216Z"
    }
   },
   "cell_type": "code",
   "source": [
    "titles_mapping = {\n",
    "\t\"Mr\": \"Mr\",\n",
    "\t\"Capt\": \"Mr\",\n",
    "\t\"Col\": \"Mr\",\n",
    "\t\"Major\": \"Mr\",\n",
    "\t\"Dr\": \"Mr\",\n",
    "\t\"Rev\": \"Mr\",\n",
    "\t\"Jonkheer\": \"Mr\",\n",
    "\t\"Don\": \"Mr\",\n",
    "\t\"Sir\": \"Mr\",\n",
    "\t\"Mme\": \"Mrs\",\n",
    "\t\"Mrs\": \"Mrs\",\n",
    "\t\"Countess\": \"Mrs\",\n",
    "\t\"Dona\": \"Mrs\",\n",
    "\t\"Lady\": \"Mrs\",\n",
    "\t\"Master\": \"Master\",\n",
    "\t\"Ms\": \"Miss\",\n",
    "\t\"Mlle\": \"Miss\",\n",
    "\t\"Miss\": \"Miss\",\n",
    "}\n",
    "\n",
    "tmp_df = ((df_to_analyse[\"Name\"]\n",
    "\t\t   .apply(apply_regex(\" ([A-Za-z]+)\\\\.\")))\n",
    "\t\t  .map(titles_mapping)).to_frame()\n",
    "\n",
    "describe_categorical_series(\n",
    "\t\ttmp_df\n",
    ")\n",
    "\n",
    "tmp_df[\"Survived\"] = df_to_analyse[\"Survived\"]\n",
    "\n",
    "summarize_categorical_columns_wrt_target(tmp_df, 'Name', 'Survived')\n",
    "\n",
    "summarize_categorical_columns_wrt_target(df_to_analyse, 'Sex', 'Survived')"
   ],
   "id": "6511863b15d604cd",
   "outputs": [
    {
     "data": {
      "text/html": [
       "<table><tr><td style=\"vertical-align:top; text-align:center; padding:10px\"><h3 style=\"text-align:center\">Description</h3><table style=\"display:inline\" border=\"1\" class=\"dataframe\">\n",
       "  <thead>\n",
       "    <tr style=\"text-align: right;\">\n",
       "      <th></th>\n",
       "      <th>Name</th>\n",
       "    </tr>\n",
       "  </thead>\n",
       "  <tbody>\n",
       "    <tr>\n",
       "      <th>count</th>\n",
       "      <td>891</td>\n",
       "    </tr>\n",
       "    <tr>\n",
       "      <th>unique</th>\n",
       "      <td>4</td>\n",
       "    </tr>\n",
       "    <tr>\n",
       "      <th>top</th>\n",
       "      <td>Mr</td>\n",
       "    </tr>\n",
       "    <tr>\n",
       "      <th>freq</th>\n",
       "      <td>538</td>\n",
       "    </tr>\n",
       "  </tbody>\n",
       "</table style=\"display:inline\"></td><td style=\"vertical-align:top; text-align:center; padding:10px\"><h3 style=\"text-align:center\">Count</h3><table style=\"display:inline\" border=\"1\" class=\"dataframe\">\n",
       "  <thead>\n",
       "    <tr style=\"text-align: right;\">\n",
       "      <th></th>\n",
       "      <th>count</th>\n",
       "    </tr>\n",
       "    <tr>\n",
       "      <th>Name</th>\n",
       "      <th></th>\n",
       "    </tr>\n",
       "  </thead>\n",
       "  <tbody>\n",
       "    <tr>\n",
       "      <th>Mr</th>\n",
       "      <td>538</td>\n",
       "    </tr>\n",
       "    <tr>\n",
       "      <th>Miss</th>\n",
       "      <td>185</td>\n",
       "    </tr>\n",
       "    <tr>\n",
       "      <th>Mrs</th>\n",
       "      <td>128</td>\n",
       "    </tr>\n",
       "    <tr>\n",
       "      <th>Master</th>\n",
       "      <td>40</td>\n",
       "    </tr>\n",
       "  </tbody>\n",
       "</table style=\"display:inline\"></td></tr></table>"
      ]
     },
     "metadata": {},
     "output_type": "display_data"
    },
    {
     "data": {
      "text/html": [
       "<table border=\"1\" class=\"dataframe\">\n",
       "  <thead>\n",
       "    <tr style=\"text-align: right;\">\n",
       "      <th></th>\n",
       "      <th>Name</th>\n",
       "      <th>count</th>\n",
       "      <th>mean</th>\n",
       "      <th>sum</th>\n",
       "    </tr>\n",
       "  </thead>\n",
       "  <tbody>\n",
       "    <tr>\n",
       "      <th>0</th>\n",
       "      <td>Master</td>\n",
       "      <td>40</td>\n",
       "      <td>0.575000</td>\n",
       "      <td>23</td>\n",
       "    </tr>\n",
       "    <tr>\n",
       "      <th>1</th>\n",
       "      <td>Miss</td>\n",
       "      <td>185</td>\n",
       "      <td>0.702703</td>\n",
       "      <td>130</td>\n",
       "    </tr>\n",
       "    <tr>\n",
       "      <th>2</th>\n",
       "      <td>Mr</td>\n",
       "      <td>538</td>\n",
       "      <td>0.161710</td>\n",
       "      <td>87</td>\n",
       "    </tr>\n",
       "    <tr>\n",
       "      <th>3</th>\n",
       "      <td>Mrs</td>\n",
       "      <td>128</td>\n",
       "      <td>0.796875</td>\n",
       "      <td>102</td>\n",
       "    </tr>\n",
       "  </tbody>\n",
       "</table>"
      ]
     },
     "metadata": {},
     "output_type": "display_data"
    },
    {
     "data": {
      "text/html": [
       "<table border=\"1\" class=\"dataframe\">\n",
       "  <thead>\n",
       "    <tr style=\"text-align: right;\">\n",
       "      <th></th>\n",
       "      <th>Sex</th>\n",
       "      <th>count</th>\n",
       "      <th>mean</th>\n",
       "      <th>sum</th>\n",
       "    </tr>\n",
       "  </thead>\n",
       "  <tbody>\n",
       "    <tr>\n",
       "      <th>0</th>\n",
       "      <td>female</td>\n",
       "      <td>314</td>\n",
       "      <td>0.742038</td>\n",
       "      <td>233</td>\n",
       "    </tr>\n",
       "    <tr>\n",
       "      <th>1</th>\n",
       "      <td>male</td>\n",
       "      <td>577</td>\n",
       "      <td>0.188908</td>\n",
       "      <td>109</td>\n",
       "    </tr>\n",
       "  </tbody>\n",
       "</table>"
      ]
     },
     "metadata": {},
     "output_type": "display_data"
    }
   ],
   "execution_count": 24
  },
  {
   "metadata": {},
   "cell_type": "markdown",
   "source": "### Processing DF",
   "id": "94c7be3d60f1d250"
  },
  {
   "metadata": {
    "ExecuteTime": {
     "end_time": "2025-09-19T15:58:30.155096Z",
     "start_time": "2025-09-19T15:58:30.147774Z"
    }
   },
   "cell_type": "code",
   "source": [
    "def process_df(df: pd.DataFrame) -> pd.DataFrame:\n",
    "\t# Title extraction\n",
    "\tdf[\"Title\"] = df[\"Name\"].apply(apply_regex(\" ([A-Za-z]+)\\\\.\")).map(titles_mapping)\n",
    "\n",
    "\t# Deal with cabin\n",
    "\tdf[\"Deck\"] = df[\"Cabin\"].apply(apply_regex('([A-Za-z]+)'))\n",
    "\n",
    "\t# Deal with sex\n",
    "\tsex_map = {\"male\": 0, \"female\": 1}\n",
    "\tdf[\"Sex\"] = df[\"Sex\"].map(sex_map)\n",
    "\n",
    "\t# Deal with N/A\n",
    "\tdf[\"Deck\"] = df[\"Deck\"].fillna(\"N/A\")\n",
    "\tdf[\"Embarked\"] = df[\"Embarked\"].fillna(df[\"Embarked\"].mode())\n",
    "\tdf[\"Age\"] = df[\"Age\"].fillna(df[\"Age\"].mean())\n",
    "\n",
    "\t# Drop useless features\n",
    "\tdf.drop(columns=[\"Name\", \"Ticket\", \"Cabin\"], inplace=True)\n",
    "\n",
    "\t# Set index\n",
    "\tdf.set_index(\"PassengerId\", inplace=True)\n",
    "\n",
    "\t# One-hot encode\n",
    "\tcategorical_columns = [\"Embarked\", \"Deck\", \"Title\"]\n",
    "\n",
    "\treturn one_hot_encode(df, categorical_columns)\n",
    "\n",
    "\n",
    "def one_hot_encode(df: pd.DataFrame, categorical_columns: list | str) -> pd.DataFrame:\n",
    "\tif isinstance(categorical_columns, str):\n",
    "\t\tcategorical_columns = [categorical_columns]\n",
    "\n",
    "\tencoder = OneHotEncoder(sparse_output=False)\n",
    "\n",
    "\tone_hot_encoded = encoder.fit_transform(df[categorical_columns])\n",
    "\tone_hot_df = pd.DataFrame(\n",
    "\t\t\tone_hot_encoded,\n",
    "\t\t\tcolumns=encoder.get_feature_names_out(categorical_columns),\n",
    "\t\t\tindex=df.index\n",
    "\t)\n",
    "\tdf.drop(categorical_columns, axis=1, inplace=True)\n",
    "\tdf_encoded = pd.concat([df, one_hot_df], axis=1)\n",
    "\n",
    "\treturn df_encoded"
   ],
   "id": "4a0788d164788b62",
   "outputs": [],
   "execution_count": 41
  },
  {
   "metadata": {
    "ExecuteTime": {
     "end_time": "2025-09-19T15:58:33.123756Z",
     "start_time": "2025-09-19T15:58:33.098565Z"
    }
   },
   "cell_type": "code",
   "source": [
    "# Import DF\n",
    "train_val_df: pd.DataFrame = pd.read_csv(\"./inputs/train.csv\")\n",
    "test_df: pd.DataFrame = pd.read_csv(\"./inputs/test.csv\")\n",
    "\n",
    "index = train_val_df.shape[0]\n",
    "total = process_df(pd.concat([train_val_df, test_df], ignore_index=True))\n",
    "\n",
    "train_val_df = total.iloc[:index]\n",
    "test_df = total.iloc[index:]\n",
    "\n",
    "test_df.tail()"
   ],
   "id": "7dfd18ee23eacd14",
   "outputs": [
    {
     "data": {
      "text/plain": [
       "             Survived  Pclass  Sex        Age  SibSp  Parch      Fare  \\\n",
       "PassengerId                                                             \n",
       "1305              NaN       3    0  29.881138      0      0    8.0500   \n",
       "1306              NaN       1    1  39.000000      0      0  108.9000   \n",
       "1307              NaN       3    0  38.500000      0      0    7.2500   \n",
       "1308              NaN       3    0  29.881138      0      0    8.0500   \n",
       "1309              NaN       3    0  29.881138      1      1   22.3583   \n",
       "\n",
       "             Embarked_C  Embarked_Q  Embarked_S  ...  Deck_D  Deck_E  Deck_F  \\\n",
       "PassengerId                                      ...                           \n",
       "1305                0.0         0.0         1.0  ...     0.0     0.0     0.0   \n",
       "1306                1.0         0.0         0.0  ...     0.0     0.0     0.0   \n",
       "1307                0.0         0.0         1.0  ...     0.0     0.0     0.0   \n",
       "1308                0.0         0.0         1.0  ...     0.0     0.0     0.0   \n",
       "1309                1.0         0.0         0.0  ...     0.0     0.0     0.0   \n",
       "\n",
       "             Deck_G  Deck_N/A  Deck_T  Title_Master  Title_Miss  Title_Mr  \\\n",
       "PassengerId                                                                 \n",
       "1305            0.0       1.0     0.0           0.0         0.0       1.0   \n",
       "1306            0.0       0.0     0.0           0.0         0.0       0.0   \n",
       "1307            0.0       1.0     0.0           0.0         0.0       1.0   \n",
       "1308            0.0       1.0     0.0           0.0         0.0       1.0   \n",
       "1309            0.0       1.0     0.0           1.0         0.0       0.0   \n",
       "\n",
       "             Title_Mrs  \n",
       "PassengerId             \n",
       "1305               0.0  \n",
       "1306               1.0  \n",
       "1307               0.0  \n",
       "1308               0.0  \n",
       "1309               0.0  \n",
       "\n",
       "[5 rows x 24 columns]"
      ],
      "text/html": [
       "<div>\n",
       "<style scoped>\n",
       "    .dataframe tbody tr th:only-of-type {\n",
       "        vertical-align: middle;\n",
       "    }\n",
       "\n",
       "    .dataframe tbody tr th {\n",
       "        vertical-align: top;\n",
       "    }\n",
       "\n",
       "    .dataframe thead th {\n",
       "        text-align: right;\n",
       "    }\n",
       "</style>\n",
       "<table border=\"1\" class=\"dataframe\">\n",
       "  <thead>\n",
       "    <tr style=\"text-align: right;\">\n",
       "      <th></th>\n",
       "      <th>Survived</th>\n",
       "      <th>Pclass</th>\n",
       "      <th>Sex</th>\n",
       "      <th>Age</th>\n",
       "      <th>SibSp</th>\n",
       "      <th>Parch</th>\n",
       "      <th>Fare</th>\n",
       "      <th>Embarked_C</th>\n",
       "      <th>Embarked_Q</th>\n",
       "      <th>Embarked_S</th>\n",
       "      <th>...</th>\n",
       "      <th>Deck_D</th>\n",
       "      <th>Deck_E</th>\n",
       "      <th>Deck_F</th>\n",
       "      <th>Deck_G</th>\n",
       "      <th>Deck_N/A</th>\n",
       "      <th>Deck_T</th>\n",
       "      <th>Title_Master</th>\n",
       "      <th>Title_Miss</th>\n",
       "      <th>Title_Mr</th>\n",
       "      <th>Title_Mrs</th>\n",
       "    </tr>\n",
       "    <tr>\n",
       "      <th>PassengerId</th>\n",
       "      <th></th>\n",
       "      <th></th>\n",
       "      <th></th>\n",
       "      <th></th>\n",
       "      <th></th>\n",
       "      <th></th>\n",
       "      <th></th>\n",
       "      <th></th>\n",
       "      <th></th>\n",
       "      <th></th>\n",
       "      <th></th>\n",
       "      <th></th>\n",
       "      <th></th>\n",
       "      <th></th>\n",
       "      <th></th>\n",
       "      <th></th>\n",
       "      <th></th>\n",
       "      <th></th>\n",
       "      <th></th>\n",
       "      <th></th>\n",
       "      <th></th>\n",
       "    </tr>\n",
       "  </thead>\n",
       "  <tbody>\n",
       "    <tr>\n",
       "      <th>1305</th>\n",
       "      <td>NaN</td>\n",
       "      <td>3</td>\n",
       "      <td>0</td>\n",
       "      <td>29.881138</td>\n",
       "      <td>0</td>\n",
       "      <td>0</td>\n",
       "      <td>8.0500</td>\n",
       "      <td>0.0</td>\n",
       "      <td>0.0</td>\n",
       "      <td>1.0</td>\n",
       "      <td>...</td>\n",
       "      <td>0.0</td>\n",
       "      <td>0.0</td>\n",
       "      <td>0.0</td>\n",
       "      <td>0.0</td>\n",
       "      <td>1.0</td>\n",
       "      <td>0.0</td>\n",
       "      <td>0.0</td>\n",
       "      <td>0.0</td>\n",
       "      <td>1.0</td>\n",
       "      <td>0.0</td>\n",
       "    </tr>\n",
       "    <tr>\n",
       "      <th>1306</th>\n",
       "      <td>NaN</td>\n",
       "      <td>1</td>\n",
       "      <td>1</td>\n",
       "      <td>39.000000</td>\n",
       "      <td>0</td>\n",
       "      <td>0</td>\n",
       "      <td>108.9000</td>\n",
       "      <td>1.0</td>\n",
       "      <td>0.0</td>\n",
       "      <td>0.0</td>\n",
       "      <td>...</td>\n",
       "      <td>0.0</td>\n",
       "      <td>0.0</td>\n",
       "      <td>0.0</td>\n",
       "      <td>0.0</td>\n",
       "      <td>0.0</td>\n",
       "      <td>0.0</td>\n",
       "      <td>0.0</td>\n",
       "      <td>0.0</td>\n",
       "      <td>0.0</td>\n",
       "      <td>1.0</td>\n",
       "    </tr>\n",
       "    <tr>\n",
       "      <th>1307</th>\n",
       "      <td>NaN</td>\n",
       "      <td>3</td>\n",
       "      <td>0</td>\n",
       "      <td>38.500000</td>\n",
       "      <td>0</td>\n",
       "      <td>0</td>\n",
       "      <td>7.2500</td>\n",
       "      <td>0.0</td>\n",
       "      <td>0.0</td>\n",
       "      <td>1.0</td>\n",
       "      <td>...</td>\n",
       "      <td>0.0</td>\n",
       "      <td>0.0</td>\n",
       "      <td>0.0</td>\n",
       "      <td>0.0</td>\n",
       "      <td>1.0</td>\n",
       "      <td>0.0</td>\n",
       "      <td>0.0</td>\n",
       "      <td>0.0</td>\n",
       "      <td>1.0</td>\n",
       "      <td>0.0</td>\n",
       "    </tr>\n",
       "    <tr>\n",
       "      <th>1308</th>\n",
       "      <td>NaN</td>\n",
       "      <td>3</td>\n",
       "      <td>0</td>\n",
       "      <td>29.881138</td>\n",
       "      <td>0</td>\n",
       "      <td>0</td>\n",
       "      <td>8.0500</td>\n",
       "      <td>0.0</td>\n",
       "      <td>0.0</td>\n",
       "      <td>1.0</td>\n",
       "      <td>...</td>\n",
       "      <td>0.0</td>\n",
       "      <td>0.0</td>\n",
       "      <td>0.0</td>\n",
       "      <td>0.0</td>\n",
       "      <td>1.0</td>\n",
       "      <td>0.0</td>\n",
       "      <td>0.0</td>\n",
       "      <td>0.0</td>\n",
       "      <td>1.0</td>\n",
       "      <td>0.0</td>\n",
       "    </tr>\n",
       "    <tr>\n",
       "      <th>1309</th>\n",
       "      <td>NaN</td>\n",
       "      <td>3</td>\n",
       "      <td>0</td>\n",
       "      <td>29.881138</td>\n",
       "      <td>1</td>\n",
       "      <td>1</td>\n",
       "      <td>22.3583</td>\n",
       "      <td>1.0</td>\n",
       "      <td>0.0</td>\n",
       "      <td>0.0</td>\n",
       "      <td>...</td>\n",
       "      <td>0.0</td>\n",
       "      <td>0.0</td>\n",
       "      <td>0.0</td>\n",
       "      <td>0.0</td>\n",
       "      <td>1.0</td>\n",
       "      <td>0.0</td>\n",
       "      <td>1.0</td>\n",
       "      <td>0.0</td>\n",
       "      <td>0.0</td>\n",
       "      <td>0.0</td>\n",
       "    </tr>\n",
       "  </tbody>\n",
       "</table>\n",
       "<p>5 rows × 24 columns</p>\n",
       "</div>"
      ]
     },
     "execution_count": 42,
     "metadata": {},
     "output_type": "execute_result"
    }
   ],
   "execution_count": 42
  },
  {
   "metadata": {
    "ExecuteTime": {
     "end_time": "2025-09-19T15:58:56.700725Z",
     "start_time": "2025-09-19T15:58:56.690581Z"
    }
   },
   "cell_type": "code",
   "source": "train_val_df.info()",
   "id": "5d6e85a846d564a5",
   "outputs": [
    {
     "name": "stdout",
     "output_type": "stream",
     "text": [
      "<class 'pandas.core.frame.DataFrame'>\n",
      "Index: 891 entries, 1 to 891\n",
      "Data columns (total 24 columns):\n",
      " #   Column        Non-Null Count  Dtype  \n",
      "---  ------        --------------  -----  \n",
      " 0   Survived      891 non-null    float64\n",
      " 1   Pclass        891 non-null    int64  \n",
      " 2   Sex           891 non-null    int64  \n",
      " 3   Age           891 non-null    float64\n",
      " 4   SibSp         891 non-null    int64  \n",
      " 5   Parch         891 non-null    int64  \n",
      " 6   Fare          891 non-null    float64\n",
      " 7   Embarked_C    891 non-null    float64\n",
      " 8   Embarked_Q    891 non-null    float64\n",
      " 9   Embarked_S    891 non-null    float64\n",
      " 10  Embarked_nan  891 non-null    float64\n",
      " 11  Deck_A        891 non-null    float64\n",
      " 12  Deck_B        891 non-null    float64\n",
      " 13  Deck_C        891 non-null    float64\n",
      " 14  Deck_D        891 non-null    float64\n",
      " 15  Deck_E        891 non-null    float64\n",
      " 16  Deck_F        891 non-null    float64\n",
      " 17  Deck_G        891 non-null    float64\n",
      " 18  Deck_N/A      891 non-null    float64\n",
      " 19  Deck_T        891 non-null    float64\n",
      " 20  Title_Master  891 non-null    float64\n",
      " 21  Title_Miss    891 non-null    float64\n",
      " 22  Title_Mr      891 non-null    float64\n",
      " 23  Title_Mrs     891 non-null    float64\n",
      "dtypes: float64(20), int64(4)\n",
      "memory usage: 174.0 KB\n"
     ]
    }
   ],
   "execution_count": 43
  },
  {
   "metadata": {},
   "cell_type": "markdown",
   "source": "### Testing Model",
   "id": "c5813812b8cb9bf2"
  },
  {
   "metadata": {
    "ExecuteTime": {
     "end_time": "2025-09-19T15:59:03.364507Z",
     "start_time": "2025-09-19T15:59:03.357674Z"
    }
   },
   "cell_type": "code",
   "source": [
    "def test_random_forest(x, y, x_val, y_val, **kwargs):\n",
    "\ttmp_model = get_model(x, y, **kwargs)\n",
    "\tpred = tmp_model.predict(x_val)\n",
    "\treturn compare(pred, y_val)\n",
    "\n",
    "\n",
    "def get_model(x, y, **kwargs):\n",
    "\ttmp_model = RandomForestClassifier(**kwargs)\n",
    "\ttmp_model.fit(x, y)\n",
    "\treturn tmp_model\n",
    "\n",
    "\n",
    "def compare(pred, y):\n",
    "\treturn np.count_nonzero(y.to_numpy() == pred) / len(y)"
   ],
   "id": "405e4e754d9ff159",
   "outputs": [],
   "execution_count": 44
  },
  {
   "metadata": {},
   "cell_type": "markdown",
   "source": "#### Hyperparameter Tuning",
   "id": "d12d089c40e2b995"
  },
  {
   "metadata": {
    "ExecuteTime": {
     "end_time": "2025-09-19T16:02:09.212250Z",
     "start_time": "2025-09-19T16:01:06.906534Z"
    }
   },
   "cell_type": "code",
   "source": [
    "# Finding the best hyperparameters by averaging performance based on cross validation\n",
    "FILE_LOC = \"./saved/calculated.pkl\"\n",
    "\n",
    "n_estimators_s = range(50, 400, 50)\n",
    "max_depth_s = range(1, 10)\n",
    "\n",
    "results = pickle.load(open(FILE_LOC, 'rb')) if os.path.exists(FILE_LOC) else {}\n",
    "\n",
    "kf = sklearn.model_selection.KFold(random_state=42, n_splits=5, shuffle=True)\n",
    "\n",
    "for n_estimators in n_estimators_s:\n",
    "\tfor max_depth in max_depth_s:\n",
    "\t\tif results.get((n_estimators, max_depth)) is not None:\n",
    "\t\t\tprint(f\"Skipping {n_estimators} {max_depth} {results.get((n_estimators, max_depth))}\")\n",
    "\t\t\tcontinue\n",
    "\n",
    "\t\taverage = []\n",
    "\t\tfor train_index, val_index in kf.split(train_val_df):\n",
    "\t\t\ttrain_df = train_val_df.iloc[train_index]\n",
    "\t\t\tval_df = train_val_df.iloc[val_index]\n",
    "\n",
    "\t\t\ttrain_y = train_df[\"Survived\"]\n",
    "\t\t\ttrain_x = train_df.drop(\"Survived\", axis=1)\n",
    "\n",
    "\t\t\tval_y = val_df[\"Survived\"]\n",
    "\t\t\tval_x = val_df.drop(\"Survived\", axis=1)\n",
    "\n",
    "\t\t\taverage.append(test_random_forest(train_x,\n",
    "\t\t\t\t\t\t\t\t\t\t\t  train_y,\n",
    "\t\t\t\t\t\t\t\t\t\t\t  val_x,\n",
    "\t\t\t\t\t\t\t\t\t\t\t  val_y,\n",
    "\t\t\t\t\t\t\t\t\t\t\t  n_estimators=n_estimators,\n",
    "\t\t\t\t\t\t\t\t\t\t\t  random_state=1,\n",
    "\t\t\t\t\t\t\t\t\t\t\t  max_depth=max_depth))\n",
    "\t\tprint(n_estimators, max_depth, np.mean(average), sep=\"\\t\")\n",
    "\t\tresults[(n_estimators, max_depth)] = np.mean(average)\n",
    "\n",
    "with open(FILE_LOC, 'wb') as file:\n",
    "\tpickle.dump(results, file)"
   ],
   "id": "1e47baa9e52901b6",
   "outputs": [
    {
     "name": "stdout",
     "output_type": "stream",
     "text": [
      "50\t1\t0.7789341535371289\n",
      "50\t2\t0.7979850605737242\n",
      "50\t3\t0.8092084614901764\n",
      "50\t4\t0.8249387985688281\n",
      "50\t5\t0.8316740945326722\n",
      "50\t6\t0.8417676228736426\n",
      "50\t7\t0.8294080723118448\n",
      "50\t8\t0.8283033080158182\n",
      "50\t9\t0.8316740945326722\n",
      "100\t1\t0.7755570899504113\n",
      "100\t2\t0.7979850605737242\n",
      "100\t3\t0.8092084614901764\n",
      "100\t4\t0.826062394074446\n",
      "100\t5\t0.8327851358985626\n",
      "100\t6\t0.8372669637813068\n",
      "100\t7\t0.8383905592869247\n",
      "100\t8\t0.8294269035214361\n",
      "100\t9\t0.8305379448873266\n",
      "150\t1\t0.7778105580315109\n",
      "150\t2\t0.793496955621116\n",
      "150\t3\t0.8069612704789405\n",
      "150\t4\t0.8249387985688281\n",
      "150\t5\t0.8316678174628084\n",
      "150\t6\t0.838390559286925\n",
      "150\t7\t0.8383968363567886\n",
      "150\t8\t0.8282907538760907\n",
      "150\t9\t0.8339087314041805\n",
      "200\t1\t0.7733287301487666\n",
      "200\t2\t0.793496955621116\n",
      "200\t3\t0.8092147385600402\n",
      "200\t4\t0.823821480133074\n",
      "200\t5\t0.8327851358985626\n",
      "200\t6\t0.840631473228297\n",
      "200\t7\t0.8395141547925429\n",
      "200\t8\t0.8282970309459545\n",
      "200\t9\t0.8271734354403364\n",
      "250\t1\t0.7789341535371288\n",
      "250\t2\t0.7912560416797438\n",
      "250\t3\t0.8080911430544221\n",
      "250\t4\t0.8249387985688281\n",
      "250\t5\t0.8316678174628084\n",
      "250\t6\t0.8361433682756889\n",
      "250\t7\t0.8383968363567886\n",
      "250\t8\t0.8305316678174627\n",
      "250\t9\t0.8305379448873266\n",
      "300\t1\t0.7789341535371289\n",
      "300\t2\t0.7912560416797438\n",
      "300\t3\t0.8080911430544223\n",
      "300\t4\t0.8226916075575922\n",
      "300\t5\t0.8316678174628084\n",
      "300\t6\t0.8372669637813068\n",
      "300\t7\t0.8361559224154165\n",
      "300\t8\t0.8294143493817087\n",
      "300\t9\t0.8294143493817087\n",
      "350\t1\t0.7789404306069926\n",
      "350\t2\t0.7912560416797438\n",
      "350\t3\t0.8092084614901764\n",
      "350\t4\t0.8238152030632101\n",
      "350\t5\t0.8316615403929445\n",
      "350\t6\t0.8372795179210344\n",
      "350\t7\t0.8395204318624065\n",
      "350\t8\t0.8249325214989642\n",
      "350\t9\t0.8271734354403364\n"
     ]
    }
   ],
   "execution_count": 47
  },
  {
   "metadata": {
    "ExecuteTime": {
     "end_time": "2025-09-19T16:02:09.407884Z",
     "start_time": "2025-09-19T16:02:09.239843Z"
    }
   },
   "cell_type": "code",
   "source": [
    "data = np.zeros((len(n_estimators_s), len(max_depth_s)))\n",
    "\n",
    "for i, n_estimators in enumerate(n_estimators_s):\n",
    "\tfor j, max_depth in enumerate(max_depth_s):\n",
    "\t\tdata[i, j] = results[(n_estimators, max_depth)]\n",
    "\n",
    "z_data = pd.DataFrame(data)\n",
    "\n",
    "import plotly.graph_objects as go\n",
    "\n",
    "fig = go.Figure(data=[go.Surface(x=list(max_depth_s), y=list(n_estimators_s), z=z_data)])\n",
    "fig.update_traces(contours_z=dict(show=True, usecolormap=True,\n",
    "\t\t\t\t\t\t\t\t  highlightcolor=\"limegreen\", project_z=True))\n",
    "fig.update_layout(title=dict(text='Hyperparameter tuning graph'), autosize=False,\n",
    "\t\t\t\t  scene_camera_eye=dict(x=1.87, y=0.88, z=-0.64),\n",
    "\t\t\t\t  width=500, height=500,\n",
    "\t\t\t\t  margin=dict(l=65, r=50, b=65, t=90)\n",
    "\t\t\t\t  )\n",
    "\n",
    "fig.show()"
   ],
   "id": "cdd147e714c79a78",
   "outputs": [
    {
     "data": {
      "application/vnd.plotly.v1+json": {
       "data": [
        {
         "x": [
          1,
          2,
          3,
          4,
          5,
          6,
          7,
          8,
          9
         ],
         "y": [
          50,
          100,
          150,
          200,
          250,
          300,
          350
         ],
         "z": {
          "dtype": "f8",
          "bdata": "vb1lUQft6D8Oizv3F4npP6bltyQJ5ek/rr8hDeZl6j/6V579Ep3qP9pdYqfC7+o/08QzzIKK6j/4FmPwdYHqP/pXnv0Sneo/BZMwGl3R6D8Oizv3F4npP6bltyQJ5ek/rirgZhpv6j+N72gDLabqPyDIbhbkyuo/IDMtcBjU6j/4gSFKqorqP4sZ7E/Ek+o/vFKn99Lj6D/CyDu6U2TpP6UPO3Gg0uk/rr8hDeZl6j9DbqTTBZ3qPyIzLXAY1Oo/2BwnmiXU6j+LQ2+cW4HqP41aJ11hr+o/KHqh5Bu/6D/CyDu6U2TpP13PsU4W5ek/ZT5d3b5c6j+N72gDLabqP2sfsPlz5uo/Ip7ryUzd6j9CLWnGaIHqP0DCqmw0eOo/vL1lUQft6D943Lgw+FHpP1tk8/Th2+k/rr8hDeZl6j9DbqTTBZ3qPyBdsLyvweo/2BwnmiXU6j/TL/Ilt5PqP4sZ7E/Ek+o/vb1lUQft6D943Lgw+FHpP11k8/Th2+k/remkWX1T6j9DbqTTBZ3qPyDIbhbkyuo/jjCkEMrB6j+Lri32j4rqP4uuLfaPiuo/c6dfexTt6D943Lgw+FHpP6bltyQJ5ek/rVRjs7Fc6j+LhKqp+JzqP46bYmr+yuo/2Ifl81nd6j/21Sfj2GXqP0DCqmw0eOo/",
          "shape": "7, 9"
         },
         "type": "surface",
         "contours": {
          "z": {
           "project": {
            "z": true
           },
           "highlightcolor": "limegreen",
           "show": true,
           "usecolormap": true
          }
         }
        }
       ],
       "layout": {
        "template": {
         "data": {
          "histogram2dcontour": [
           {
            "type": "histogram2dcontour",
            "colorbar": {
             "outlinewidth": 0,
             "ticks": ""
            },
            "colorscale": [
             [
              0.0,
              "#0d0887"
             ],
             [
              0.1111111111111111,
              "#46039f"
             ],
             [
              0.2222222222222222,
              "#7201a8"
             ],
             [
              0.3333333333333333,
              "#9c179e"
             ],
             [
              0.4444444444444444,
              "#bd3786"
             ],
             [
              0.5555555555555556,
              "#d8576b"
             ],
             [
              0.6666666666666666,
              "#ed7953"
             ],
             [
              0.7777777777777778,
              "#fb9f3a"
             ],
             [
              0.8888888888888888,
              "#fdca26"
             ],
             [
              1.0,
              "#f0f921"
             ]
            ]
           }
          ],
          "choropleth": [
           {
            "type": "choropleth",
            "colorbar": {
             "outlinewidth": 0,
             "ticks": ""
            }
           }
          ],
          "histogram2d": [
           {
            "type": "histogram2d",
            "colorbar": {
             "outlinewidth": 0,
             "ticks": ""
            },
            "colorscale": [
             [
              0.0,
              "#0d0887"
             ],
             [
              0.1111111111111111,
              "#46039f"
             ],
             [
              0.2222222222222222,
              "#7201a8"
             ],
             [
              0.3333333333333333,
              "#9c179e"
             ],
             [
              0.4444444444444444,
              "#bd3786"
             ],
             [
              0.5555555555555556,
              "#d8576b"
             ],
             [
              0.6666666666666666,
              "#ed7953"
             ],
             [
              0.7777777777777778,
              "#fb9f3a"
             ],
             [
              0.8888888888888888,
              "#fdca26"
             ],
             [
              1.0,
              "#f0f921"
             ]
            ]
           }
          ],
          "heatmap": [
           {
            "type": "heatmap",
            "colorbar": {
             "outlinewidth": 0,
             "ticks": ""
            },
            "colorscale": [
             [
              0.0,
              "#0d0887"
             ],
             [
              0.1111111111111111,
              "#46039f"
             ],
             [
              0.2222222222222222,
              "#7201a8"
             ],
             [
              0.3333333333333333,
              "#9c179e"
             ],
             [
              0.4444444444444444,
              "#bd3786"
             ],
             [
              0.5555555555555556,
              "#d8576b"
             ],
             [
              0.6666666666666666,
              "#ed7953"
             ],
             [
              0.7777777777777778,
              "#fb9f3a"
             ],
             [
              0.8888888888888888,
              "#fdca26"
             ],
             [
              1.0,
              "#f0f921"
             ]
            ]
           }
          ],
          "contourcarpet": [
           {
            "type": "contourcarpet",
            "colorbar": {
             "outlinewidth": 0,
             "ticks": ""
            }
           }
          ],
          "contour": [
           {
            "type": "contour",
            "colorbar": {
             "outlinewidth": 0,
             "ticks": ""
            },
            "colorscale": [
             [
              0.0,
              "#0d0887"
             ],
             [
              0.1111111111111111,
              "#46039f"
             ],
             [
              0.2222222222222222,
              "#7201a8"
             ],
             [
              0.3333333333333333,
              "#9c179e"
             ],
             [
              0.4444444444444444,
              "#bd3786"
             ],
             [
              0.5555555555555556,
              "#d8576b"
             ],
             [
              0.6666666666666666,
              "#ed7953"
             ],
             [
              0.7777777777777778,
              "#fb9f3a"
             ],
             [
              0.8888888888888888,
              "#fdca26"
             ],
             [
              1.0,
              "#f0f921"
             ]
            ]
           }
          ],
          "surface": [
           {
            "type": "surface",
            "colorbar": {
             "outlinewidth": 0,
             "ticks": ""
            },
            "colorscale": [
             [
              0.0,
              "#0d0887"
             ],
             [
              0.1111111111111111,
              "#46039f"
             ],
             [
              0.2222222222222222,
              "#7201a8"
             ],
             [
              0.3333333333333333,
              "#9c179e"
             ],
             [
              0.4444444444444444,
              "#bd3786"
             ],
             [
              0.5555555555555556,
              "#d8576b"
             ],
             [
              0.6666666666666666,
              "#ed7953"
             ],
             [
              0.7777777777777778,
              "#fb9f3a"
             ],
             [
              0.8888888888888888,
              "#fdca26"
             ],
             [
              1.0,
              "#f0f921"
             ]
            ]
           }
          ],
          "mesh3d": [
           {
            "type": "mesh3d",
            "colorbar": {
             "outlinewidth": 0,
             "ticks": ""
            }
           }
          ],
          "scatter": [
           {
            "marker": {
             "line": {
              "color": "#283442"
             }
            },
            "type": "scatter"
           }
          ],
          "parcoords": [
           {
            "type": "parcoords",
            "line": {
             "colorbar": {
              "outlinewidth": 0,
              "ticks": ""
             }
            }
           }
          ],
          "scatterpolargl": [
           {
            "type": "scatterpolargl",
            "marker": {
             "colorbar": {
              "outlinewidth": 0,
              "ticks": ""
             }
            }
           }
          ],
          "bar": [
           {
            "error_x": {
             "color": "#f2f5fa"
            },
            "error_y": {
             "color": "#f2f5fa"
            },
            "marker": {
             "line": {
              "color": "rgb(17,17,17)",
              "width": 0.5
             },
             "pattern": {
              "fillmode": "overlay",
              "size": 10,
              "solidity": 0.2
             }
            },
            "type": "bar"
           }
          ],
          "scattergeo": [
           {
            "type": "scattergeo",
            "marker": {
             "colorbar": {
              "outlinewidth": 0,
              "ticks": ""
             }
            }
           }
          ],
          "scatterpolar": [
           {
            "type": "scatterpolar",
            "marker": {
             "colorbar": {
              "outlinewidth": 0,
              "ticks": ""
             }
            }
           }
          ],
          "histogram": [
           {
            "marker": {
             "pattern": {
              "fillmode": "overlay",
              "size": 10,
              "solidity": 0.2
             }
            },
            "type": "histogram"
           }
          ],
          "scattergl": [
           {
            "marker": {
             "line": {
              "color": "#283442"
             }
            },
            "type": "scattergl"
           }
          ],
          "scatter3d": [
           {
            "type": "scatter3d",
            "line": {
             "colorbar": {
              "outlinewidth": 0,
              "ticks": ""
             }
            },
            "marker": {
             "colorbar": {
              "outlinewidth": 0,
              "ticks": ""
             }
            }
           }
          ],
          "scattermap": [
           {
            "type": "scattermap",
            "marker": {
             "colorbar": {
              "outlinewidth": 0,
              "ticks": ""
             }
            }
           }
          ],
          "scattermapbox": [
           {
            "type": "scattermapbox",
            "marker": {
             "colorbar": {
              "outlinewidth": 0,
              "ticks": ""
             }
            }
           }
          ],
          "scatterternary": [
           {
            "type": "scatterternary",
            "marker": {
             "colorbar": {
              "outlinewidth": 0,
              "ticks": ""
             }
            }
           }
          ],
          "scattercarpet": [
           {
            "type": "scattercarpet",
            "marker": {
             "colorbar": {
              "outlinewidth": 0,
              "ticks": ""
             }
            }
           }
          ],
          "carpet": [
           {
            "aaxis": {
             "endlinecolor": "#A2B1C6",
             "gridcolor": "#506784",
             "linecolor": "#506784",
             "minorgridcolor": "#506784",
             "startlinecolor": "#A2B1C6"
            },
            "baxis": {
             "endlinecolor": "#A2B1C6",
             "gridcolor": "#506784",
             "linecolor": "#506784",
             "minorgridcolor": "#506784",
             "startlinecolor": "#A2B1C6"
            },
            "type": "carpet"
           }
          ],
          "table": [
           {
            "cells": {
             "fill": {
              "color": "#506784"
             },
             "line": {
              "color": "rgb(17,17,17)"
             }
            },
            "header": {
             "fill": {
              "color": "#2a3f5f"
             },
             "line": {
              "color": "rgb(17,17,17)"
             }
            },
            "type": "table"
           }
          ],
          "barpolar": [
           {
            "marker": {
             "line": {
              "color": "rgb(17,17,17)",
              "width": 0.5
             },
             "pattern": {
              "fillmode": "overlay",
              "size": 10,
              "solidity": 0.2
             }
            },
            "type": "barpolar"
           }
          ],
          "pie": [
           {
            "automargin": true,
            "type": "pie"
           }
          ]
         },
         "layout": {
          "autotypenumbers": "strict",
          "colorway": [
           "#636efa",
           "#EF553B",
           "#00cc96",
           "#ab63fa",
           "#FFA15A",
           "#19d3f3",
           "#FF6692",
           "#B6E880",
           "#FF97FF",
           "#FECB52"
          ],
          "font": {
           "color": "#f2f5fa"
          },
          "hovermode": "closest",
          "hoverlabel": {
           "align": "left"
          },
          "paper_bgcolor": "rgb(17,17,17)",
          "plot_bgcolor": "rgb(17,17,17)",
          "polar": {
           "bgcolor": "rgb(17,17,17)",
           "angularaxis": {
            "gridcolor": "#506784",
            "linecolor": "#506784",
            "ticks": ""
           },
           "radialaxis": {
            "gridcolor": "#506784",
            "linecolor": "#506784",
            "ticks": ""
           }
          },
          "ternary": {
           "bgcolor": "rgb(17,17,17)",
           "aaxis": {
            "gridcolor": "#506784",
            "linecolor": "#506784",
            "ticks": ""
           },
           "baxis": {
            "gridcolor": "#506784",
            "linecolor": "#506784",
            "ticks": ""
           },
           "caxis": {
            "gridcolor": "#506784",
            "linecolor": "#506784",
            "ticks": ""
           }
          },
          "coloraxis": {
           "colorbar": {
            "outlinewidth": 0,
            "ticks": ""
           }
          },
          "colorscale": {
           "sequential": [
            [
             0.0,
             "#0d0887"
            ],
            [
             0.1111111111111111,
             "#46039f"
            ],
            [
             0.2222222222222222,
             "#7201a8"
            ],
            [
             0.3333333333333333,
             "#9c179e"
            ],
            [
             0.4444444444444444,
             "#bd3786"
            ],
            [
             0.5555555555555556,
             "#d8576b"
            ],
            [
             0.6666666666666666,
             "#ed7953"
            ],
            [
             0.7777777777777778,
             "#fb9f3a"
            ],
            [
             0.8888888888888888,
             "#fdca26"
            ],
            [
             1.0,
             "#f0f921"
            ]
           ],
           "sequentialminus": [
            [
             0.0,
             "#0d0887"
            ],
            [
             0.1111111111111111,
             "#46039f"
            ],
            [
             0.2222222222222222,
             "#7201a8"
            ],
            [
             0.3333333333333333,
             "#9c179e"
            ],
            [
             0.4444444444444444,
             "#bd3786"
            ],
            [
             0.5555555555555556,
             "#d8576b"
            ],
            [
             0.6666666666666666,
             "#ed7953"
            ],
            [
             0.7777777777777778,
             "#fb9f3a"
            ],
            [
             0.8888888888888888,
             "#fdca26"
            ],
            [
             1.0,
             "#f0f921"
            ]
           ],
           "diverging": [
            [
             0,
             "#8e0152"
            ],
            [
             0.1,
             "#c51b7d"
            ],
            [
             0.2,
             "#de77ae"
            ],
            [
             0.3,
             "#f1b6da"
            ],
            [
             0.4,
             "#fde0ef"
            ],
            [
             0.5,
             "#f7f7f7"
            ],
            [
             0.6,
             "#e6f5d0"
            ],
            [
             0.7,
             "#b8e186"
            ],
            [
             0.8,
             "#7fbc41"
            ],
            [
             0.9,
             "#4d9221"
            ],
            [
             1,
             "#276419"
            ]
           ]
          },
          "xaxis": {
           "gridcolor": "#283442",
           "linecolor": "#506784",
           "ticks": "",
           "title": {
            "standoff": 15
           },
           "zerolinecolor": "#283442",
           "automargin": true,
           "zerolinewidth": 2
          },
          "yaxis": {
           "gridcolor": "#283442",
           "linecolor": "#506784",
           "ticks": "",
           "title": {
            "standoff": 15
           },
           "zerolinecolor": "#283442",
           "automargin": true,
           "zerolinewidth": 2
          },
          "scene": {
           "xaxis": {
            "backgroundcolor": "rgb(17,17,17)",
            "gridcolor": "#506784",
            "linecolor": "#506784",
            "showbackground": true,
            "ticks": "",
            "zerolinecolor": "#C8D4E3",
            "gridwidth": 2
           },
           "yaxis": {
            "backgroundcolor": "rgb(17,17,17)",
            "gridcolor": "#506784",
            "linecolor": "#506784",
            "showbackground": true,
            "ticks": "",
            "zerolinecolor": "#C8D4E3",
            "gridwidth": 2
           },
           "zaxis": {
            "backgroundcolor": "rgb(17,17,17)",
            "gridcolor": "#506784",
            "linecolor": "#506784",
            "showbackground": true,
            "ticks": "",
            "zerolinecolor": "#C8D4E3",
            "gridwidth": 2
           }
          },
          "shapedefaults": {
           "line": {
            "color": "#f2f5fa"
           }
          },
          "annotationdefaults": {
           "arrowcolor": "#f2f5fa",
           "arrowhead": 0,
           "arrowwidth": 1
          },
          "geo": {
           "bgcolor": "rgb(17,17,17)",
           "landcolor": "rgb(17,17,17)",
           "subunitcolor": "#506784",
           "showland": true,
           "showlakes": true,
           "lakecolor": "rgb(17,17,17)"
          },
          "title": {
           "x": 0.05
          },
          "updatemenudefaults": {
           "bgcolor": "#506784",
           "borderwidth": 0
          },
          "sliderdefaults": {
           "bgcolor": "#C8D4E3",
           "borderwidth": 1,
           "bordercolor": "rgb(17,17,17)",
           "tickwidth": 0
          },
          "mapbox": {
           "style": "dark"
          }
         }
        },
        "title": {
         "text": "Hyperparameter tuning graph"
        },
        "scene": {
         "camera": {
          "eye": {
           "x": 1.87,
           "y": 0.88,
           "z": -0.64
          }
         }
        },
        "margin": {
         "l": 65,
         "r": 50,
         "b": 65,
         "t": 90
        },
        "autosize": false,
        "width": 500,
        "height": 500
       },
       "config": {
        "plotlyServerURL": "https://plot.ly"
       }
      }
     },
     "metadata": {},
     "output_type": "display_data"
    }
   ],
   "execution_count": 48
  },
  {
   "metadata": {},
   "cell_type": "markdown",
   "source": "### Submissions",
   "id": "6d610dc829b0a7ee"
  },
  {
   "metadata": {
    "ExecuteTime": {
     "end_time": "2025-09-19T16:02:40.606944Z",
     "start_time": "2025-09-19T16:02:40.025725Z"
    }
   },
   "cell_type": "code",
   "source": [
    "train_df = train_val_df  #.sample(frac=0.8, random_state=1)\n",
    "\n",
    "train_y = train_df[\"Survived\"]\n",
    "train_x = train_df.drop(\"Survived\", axis=1)\n",
    "\n",
    "model = get_model(train_x, train_y, n_estimators=500, random_state=1, max_depth=7)\n",
    "predictions = model.predict(test_df.drop(\"Survived\", axis=1))\n",
    "\n",
    "output = pd.DataFrame({'PassengerId': test_df.index, 'Survived': predictions.astype(int)})\n",
    "output.to_csv('submission.csv', index=False)\n",
    "\n",
    "print(\"Your submission was successfully saved!\")"
   ],
   "id": "b92636fc644f07d3",
   "outputs": [
    {
     "name": "stdout",
     "output_type": "stream",
     "text": [
      "Your submission was successfully saved!\n"
     ]
    }
   ],
   "execution_count": 49
  }
 ],
 "metadata": {
  "kernelspec": {
   "display_name": "Python 3",
   "language": "python",
   "name": "python3"
  },
  "language_info": {
   "codemirror_mode": {
    "name": "ipython",
    "version": 2
   },
   "file_extension": ".py",
   "mimetype": "text/x-python",
   "name": "python",
   "nbconvert_exporter": "python",
   "pygments_lexer": "ipython2",
   "version": "2.7.6"
  }
 },
 "nbformat": 4,
 "nbformat_minor": 5
}
